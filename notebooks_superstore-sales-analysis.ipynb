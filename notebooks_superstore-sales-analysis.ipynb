{
  "metadata": {
    "papermill": {
      "default_parameters": {},
      "duration": 19.136756,
      "end_time": "2022-08-15T18:47:58.861122",
      "environment_variables": {},
      "exception": null,
      "input_path": "__notebook__.ipynb",
      "output_path": "__notebook__.ipynb",
      "parameters": {},
      "start_time": "2022-08-15T18:47:39.724366",
      "version": "2.3.4"
    },
    "kernelspec": {
      "name": "python",
      "display_name": "Python (Pyodide)",
      "language": "python"
    },
    "language_info": {
      "codemirror_mode": {
        "name": "python",
        "version": 3
      },
      "file_extension": ".py",
      "mimetype": "text/x-python",
      "name": "python",
      "nbconvert_exporter": "python",
      "pygments_lexer": "ipython3",
      "version": "3.8"
    }
  },
  "nbformat_minor": 5,
  "nbformat": 4,
  "cells": [
    {
      "cell_type": "markdown",
      "source": "# Task - 1  Forecasting sales of Superstore\n",
      "metadata": {},
      "id": "2a4eaf68"
    },
    {
      "cell_type": "markdown",
      "source": "# **Importing libraries**",
      "metadata": {
        "papermill": {
          "duration": 0.015397,
          "end_time": "2022-08-15T18:47:48.645024",
          "exception": false,
          "start_time": "2022-08-15T18:47:48.629627",
          "status": "completed"
        },
        "tags": []
      },
      "id": "75c4b122"
    },
    {
      "cell_type": "code",
      "source": "import numpy as np\nimport pandas as pd",
      "metadata": {
        "_kg_hide-input": false,
        "papermill": {
          "duration": 0.038562,
          "end_time": "2022-08-15T18:47:48.697156",
          "exception": false,
          "start_time": "2022-08-15T18:47:48.658594",
          "status": "completed"
        },
        "tags": [],
        "trusted": true
      },
      "execution_count": 1,
      "outputs": [],
      "id": "00bf8503"
    },
    {
      "cell_type": "code",
      "source": "import plotly.graph_objects as go\nimport matplotlib.pyplot as plt\nimport plotly.express as px\nfrom plotly.subplots import make_subplots\nfrom plotly.offline import iplot,init_notebook_mode,plot\n\ninit_notebook_mode(connected=True)\n\n%matplotlib inline",
      "metadata": {
        "papermill": {
          "duration": 1.494369,
          "end_time": "2022-08-15T18:47:50.236027",
          "exception": false,
          "start_time": "2022-08-15T18:47:48.741658",
          "status": "completed"
        },
        "tags": [],
        "trusted": true
      },
      "execution_count": 2,
      "outputs": [
        {
          "ename": "<class 'ModuleNotFoundError'>",
          "evalue": "No module named 'plotly'",
          "traceback": [
            "\u001b[0;31m---------------------------------------------------------------------------\u001b[0m",
            "\u001b[0;31mModuleNotFoundError\u001b[0m                       Traceback (most recent call last)",
            "Cell \u001b[0;32mIn[2], line 1\u001b[0m\n\u001b[0;32m----> 1\u001b[0m \u001b[38;5;28;01mimport\u001b[39;00m \u001b[38;5;21;01mplotly\u001b[39;00m\u001b[38;5;21;01m.\u001b[39;00m\u001b[38;5;21;01mgraph_objects\u001b[39;00m \u001b[38;5;28;01mas\u001b[39;00m \u001b[38;5;21;01mgo\u001b[39;00m\n\u001b[1;32m      2\u001b[0m \u001b[38;5;28;01mimport\u001b[39;00m \u001b[38;5;21;01mmatplotlib\u001b[39;00m\u001b[38;5;21;01m.\u001b[39;00m\u001b[38;5;21;01mpyplot\u001b[39;00m \u001b[38;5;28;01mas\u001b[39;00m \u001b[38;5;21;01mplt\u001b[39;00m\n\u001b[1;32m      3\u001b[0m \u001b[38;5;28;01mimport\u001b[39;00m \u001b[38;5;21;01mplotly\u001b[39;00m\u001b[38;5;21;01m.\u001b[39;00m\u001b[38;5;21;01mexpress\u001b[39;00m \u001b[38;5;28;01mas\u001b[39;00m \u001b[38;5;21;01mpx\u001b[39;00m\n",
            "\u001b[0;31mModuleNotFoundError\u001b[0m: No module named 'plotly'"
          ],
          "output_type": "error"
        }
      ],
      "id": "58cf9701"
    },
    {
      "cell_type": "markdown",
      "source": "# **Importing Data**",
      "metadata": {
        "papermill": {
          "duration": 0.01338,
          "end_time": "2022-08-15T18:47:50.263399",
          "exception": false,
          "start_time": "2022-08-15T18:47:50.250019",
          "status": "completed"
        },
        "tags": []
      },
      "id": "f90d93a9"
    },
    {
      "cell_type": "code",
      "source": "cd \"C:\\Users\\Administrator\\Desktop\\internship\"",
      "metadata": {
        "trusted": true
      },
      "execution_count": 3,
      "outputs": [
        {
          "name": "stdout",
          "text": "[Errno 44] No such file or directory: 'C:\\\\Users\\\\Administrator\\\\Desktop\\\\internship'\n/drive\n",
          "output_type": "stream"
        }
      ],
      "id": "07cb5e0f"
    },
    {
      "cell_type": "code",
      "source": "sales_data = pd.read_csv('train.csv')",
      "metadata": {
        "_kg_hide-input": true,
        "papermill": {
          "duration": 0.100687,
          "end_time": "2022-08-15T18:47:50.377598",
          "exception": false,
          "start_time": "2022-08-15T18:47:50.276911",
          "status": "completed"
        },
        "tags": [],
        "trusted": true
      },
      "execution_count": 4,
      "outputs": [
        {
          "ename": "<class 'FileNotFoundError'>",
          "evalue": "[Errno 44] No such file or directory: 'train.csv'",
          "traceback": [
            "\u001b[0;31m---------------------------------------------------------------------------\u001b[0m",
            "\u001b[0;31mFileNotFoundError\u001b[0m                         Traceback (most recent call last)",
            "Cell \u001b[0;32mIn[4], line 1\u001b[0m\n\u001b[0;32m----> 1\u001b[0m sales_data \u001b[38;5;241m=\u001b[39m \u001b[43mpd\u001b[49m\u001b[38;5;241;43m.\u001b[39;49m\u001b[43mread_csv\u001b[49m\u001b[43m(\u001b[49m\u001b[38;5;124;43m'\u001b[39;49m\u001b[38;5;124;43mtrain.csv\u001b[39;49m\u001b[38;5;124;43m'\u001b[39;49m\u001b[43m)\u001b[49m\n",
            "File \u001b[0;32m/lib/python3.11/site-packages/pandas/util/_decorators.py:211\u001b[0m, in \u001b[0;36mdeprecate_kwarg.<locals>._deprecate_kwarg.<locals>.wrapper\u001b[0;34m(*args, **kwargs)\u001b[0m\n\u001b[1;32m    209\u001b[0m     \u001b[38;5;28;01melse\u001b[39;00m:\n\u001b[1;32m    210\u001b[0m         kwargs[new_arg_name] \u001b[38;5;241m=\u001b[39m new_arg_value\n\u001b[0;32m--> 211\u001b[0m \u001b[38;5;28;01mreturn\u001b[39;00m \u001b[43mfunc\u001b[49m\u001b[43m(\u001b[49m\u001b[38;5;241;43m*\u001b[39;49m\u001b[43margs\u001b[49m\u001b[43m,\u001b[49m\u001b[43m \u001b[49m\u001b[38;5;241;43m*\u001b[39;49m\u001b[38;5;241;43m*\u001b[39;49m\u001b[43mkwargs\u001b[49m\u001b[43m)\u001b[49m\n",
            "File \u001b[0;32m/lib/python3.11/site-packages/pandas/util/_decorators.py:331\u001b[0m, in \u001b[0;36mdeprecate_nonkeyword_arguments.<locals>.decorate.<locals>.wrapper\u001b[0;34m(*args, **kwargs)\u001b[0m\n\u001b[1;32m    325\u001b[0m \u001b[38;5;28;01mif\u001b[39;00m \u001b[38;5;28mlen\u001b[39m(args) \u001b[38;5;241m>\u001b[39m num_allow_args:\n\u001b[1;32m    326\u001b[0m     warnings\u001b[38;5;241m.\u001b[39mwarn(\n\u001b[1;32m    327\u001b[0m         msg\u001b[38;5;241m.\u001b[39mformat(arguments\u001b[38;5;241m=\u001b[39m_format_argument_list(allow_args)),\n\u001b[1;32m    328\u001b[0m         \u001b[38;5;167;01mFutureWarning\u001b[39;00m,\n\u001b[1;32m    329\u001b[0m         stacklevel\u001b[38;5;241m=\u001b[39mfind_stack_level(),\n\u001b[1;32m    330\u001b[0m     )\n\u001b[0;32m--> 331\u001b[0m \u001b[38;5;28;01mreturn\u001b[39;00m \u001b[43mfunc\u001b[49m\u001b[43m(\u001b[49m\u001b[38;5;241;43m*\u001b[39;49m\u001b[43margs\u001b[49m\u001b[43m,\u001b[49m\u001b[43m \u001b[49m\u001b[38;5;241;43m*\u001b[39;49m\u001b[38;5;241;43m*\u001b[39;49m\u001b[43mkwargs\u001b[49m\u001b[43m)\u001b[49m\n",
            "File \u001b[0;32m/lib/python3.11/site-packages/pandas/io/parsers/readers.py:950\u001b[0m, in \u001b[0;36mread_csv\u001b[0;34m(filepath_or_buffer, sep, delimiter, header, names, index_col, usecols, squeeze, prefix, mangle_dupe_cols, dtype, engine, converters, true_values, false_values, skipinitialspace, skiprows, skipfooter, nrows, na_values, keep_default_na, na_filter, verbose, skip_blank_lines, parse_dates, infer_datetime_format, keep_date_col, date_parser, dayfirst, cache_dates, iterator, chunksize, compression, thousands, decimal, lineterminator, quotechar, quoting, doublequote, escapechar, comment, encoding, encoding_errors, dialect, error_bad_lines, warn_bad_lines, on_bad_lines, delim_whitespace, low_memory, memory_map, float_precision, storage_options)\u001b[0m\n\u001b[1;32m    935\u001b[0m kwds_defaults \u001b[38;5;241m=\u001b[39m _refine_defaults_read(\n\u001b[1;32m    936\u001b[0m     dialect,\n\u001b[1;32m    937\u001b[0m     delimiter,\n\u001b[0;32m   (...)\u001b[0m\n\u001b[1;32m    946\u001b[0m     defaults\u001b[38;5;241m=\u001b[39m{\u001b[38;5;124m\"\u001b[39m\u001b[38;5;124mdelimiter\u001b[39m\u001b[38;5;124m\"\u001b[39m: \u001b[38;5;124m\"\u001b[39m\u001b[38;5;124m,\u001b[39m\u001b[38;5;124m\"\u001b[39m},\n\u001b[1;32m    947\u001b[0m )\n\u001b[1;32m    948\u001b[0m kwds\u001b[38;5;241m.\u001b[39mupdate(kwds_defaults)\n\u001b[0;32m--> 950\u001b[0m \u001b[38;5;28;01mreturn\u001b[39;00m \u001b[43m_read\u001b[49m\u001b[43m(\u001b[49m\u001b[43mfilepath_or_buffer\u001b[49m\u001b[43m,\u001b[49m\u001b[43m \u001b[49m\u001b[43mkwds\u001b[49m\u001b[43m)\u001b[49m\n",
            "File \u001b[0;32m/lib/python3.11/site-packages/pandas/io/parsers/readers.py:605\u001b[0m, in \u001b[0;36m_read\u001b[0;34m(filepath_or_buffer, kwds)\u001b[0m\n\u001b[1;32m    602\u001b[0m _validate_names(kwds\u001b[38;5;241m.\u001b[39mget(\u001b[38;5;124m\"\u001b[39m\u001b[38;5;124mnames\u001b[39m\u001b[38;5;124m\"\u001b[39m, \u001b[38;5;28;01mNone\u001b[39;00m))\n\u001b[1;32m    604\u001b[0m \u001b[38;5;66;03m# Create the parser.\u001b[39;00m\n\u001b[0;32m--> 605\u001b[0m parser \u001b[38;5;241m=\u001b[39m \u001b[43mTextFileReader\u001b[49m\u001b[43m(\u001b[49m\u001b[43mfilepath_or_buffer\u001b[49m\u001b[43m,\u001b[49m\u001b[43m \u001b[49m\u001b[38;5;241;43m*\u001b[39;49m\u001b[38;5;241;43m*\u001b[39;49m\u001b[43mkwds\u001b[49m\u001b[43m)\u001b[49m\n\u001b[1;32m    607\u001b[0m \u001b[38;5;28;01mif\u001b[39;00m chunksize \u001b[38;5;129;01mor\u001b[39;00m iterator:\n\u001b[1;32m    608\u001b[0m     \u001b[38;5;28;01mreturn\u001b[39;00m parser\n",
            "File \u001b[0;32m/lib/python3.11/site-packages/pandas/io/parsers/readers.py:1442\u001b[0m, in \u001b[0;36mTextFileReader.__init__\u001b[0;34m(self, f, engine, **kwds)\u001b[0m\n\u001b[1;32m   1439\u001b[0m     \u001b[38;5;28mself\u001b[39m\u001b[38;5;241m.\u001b[39moptions[\u001b[38;5;124m\"\u001b[39m\u001b[38;5;124mhas_index_names\u001b[39m\u001b[38;5;124m\"\u001b[39m] \u001b[38;5;241m=\u001b[39m kwds[\u001b[38;5;124m\"\u001b[39m\u001b[38;5;124mhas_index_names\u001b[39m\u001b[38;5;124m\"\u001b[39m]\n\u001b[1;32m   1441\u001b[0m \u001b[38;5;28mself\u001b[39m\u001b[38;5;241m.\u001b[39mhandles: IOHandles \u001b[38;5;241m|\u001b[39m \u001b[38;5;28;01mNone\u001b[39;00m \u001b[38;5;241m=\u001b[39m \u001b[38;5;28;01mNone\u001b[39;00m\n\u001b[0;32m-> 1442\u001b[0m \u001b[38;5;28mself\u001b[39m\u001b[38;5;241m.\u001b[39m_engine \u001b[38;5;241m=\u001b[39m \u001b[38;5;28;43mself\u001b[39;49m\u001b[38;5;241;43m.\u001b[39;49m\u001b[43m_make_engine\u001b[49m\u001b[43m(\u001b[49m\u001b[43mf\u001b[49m\u001b[43m,\u001b[49m\u001b[43m \u001b[49m\u001b[38;5;28;43mself\u001b[39;49m\u001b[38;5;241;43m.\u001b[39;49m\u001b[43mengine\u001b[49m\u001b[43m)\u001b[49m\n",
            "File \u001b[0;32m/lib/python3.11/site-packages/pandas/io/parsers/readers.py:1735\u001b[0m, in \u001b[0;36mTextFileReader._make_engine\u001b[0;34m(self, f, engine)\u001b[0m\n\u001b[1;32m   1733\u001b[0m     \u001b[38;5;28;01mif\u001b[39;00m \u001b[38;5;124m\"\u001b[39m\u001b[38;5;124mb\u001b[39m\u001b[38;5;124m\"\u001b[39m \u001b[38;5;129;01mnot\u001b[39;00m \u001b[38;5;129;01min\u001b[39;00m mode:\n\u001b[1;32m   1734\u001b[0m         mode \u001b[38;5;241m+\u001b[39m\u001b[38;5;241m=\u001b[39m \u001b[38;5;124m\"\u001b[39m\u001b[38;5;124mb\u001b[39m\u001b[38;5;124m\"\u001b[39m\n\u001b[0;32m-> 1735\u001b[0m \u001b[38;5;28mself\u001b[39m\u001b[38;5;241m.\u001b[39mhandles \u001b[38;5;241m=\u001b[39m \u001b[43mget_handle\u001b[49m\u001b[43m(\u001b[49m\n\u001b[1;32m   1736\u001b[0m \u001b[43m    \u001b[49m\u001b[43mf\u001b[49m\u001b[43m,\u001b[49m\n\u001b[1;32m   1737\u001b[0m \u001b[43m    \u001b[49m\u001b[43mmode\u001b[49m\u001b[43m,\u001b[49m\n\u001b[1;32m   1738\u001b[0m \u001b[43m    \u001b[49m\u001b[43mencoding\u001b[49m\u001b[38;5;241;43m=\u001b[39;49m\u001b[38;5;28;43mself\u001b[39;49m\u001b[38;5;241;43m.\u001b[39;49m\u001b[43moptions\u001b[49m\u001b[38;5;241;43m.\u001b[39;49m\u001b[43mget\u001b[49m\u001b[43m(\u001b[49m\u001b[38;5;124;43m\"\u001b[39;49m\u001b[38;5;124;43mencoding\u001b[39;49m\u001b[38;5;124;43m\"\u001b[39;49m\u001b[43m,\u001b[49m\u001b[43m \u001b[49m\u001b[38;5;28;43;01mNone\u001b[39;49;00m\u001b[43m)\u001b[49m\u001b[43m,\u001b[49m\n\u001b[1;32m   1739\u001b[0m \u001b[43m    \u001b[49m\u001b[43mcompression\u001b[49m\u001b[38;5;241;43m=\u001b[39;49m\u001b[38;5;28;43mself\u001b[39;49m\u001b[38;5;241;43m.\u001b[39;49m\u001b[43moptions\u001b[49m\u001b[38;5;241;43m.\u001b[39;49m\u001b[43mget\u001b[49m\u001b[43m(\u001b[49m\u001b[38;5;124;43m\"\u001b[39;49m\u001b[38;5;124;43mcompression\u001b[39;49m\u001b[38;5;124;43m\"\u001b[39;49m\u001b[43m,\u001b[49m\u001b[43m \u001b[49m\u001b[38;5;28;43;01mNone\u001b[39;49;00m\u001b[43m)\u001b[49m\u001b[43m,\u001b[49m\n\u001b[1;32m   1740\u001b[0m \u001b[43m    \u001b[49m\u001b[43mmemory_map\u001b[49m\u001b[38;5;241;43m=\u001b[39;49m\u001b[38;5;28;43mself\u001b[39;49m\u001b[38;5;241;43m.\u001b[39;49m\u001b[43moptions\u001b[49m\u001b[38;5;241;43m.\u001b[39;49m\u001b[43mget\u001b[49m\u001b[43m(\u001b[49m\u001b[38;5;124;43m\"\u001b[39;49m\u001b[38;5;124;43mmemory_map\u001b[39;49m\u001b[38;5;124;43m\"\u001b[39;49m\u001b[43m,\u001b[49m\u001b[43m \u001b[49m\u001b[38;5;28;43;01mFalse\u001b[39;49;00m\u001b[43m)\u001b[49m\u001b[43m,\u001b[49m\n\u001b[1;32m   1741\u001b[0m \u001b[43m    \u001b[49m\u001b[43mis_text\u001b[49m\u001b[38;5;241;43m=\u001b[39;49m\u001b[43mis_text\u001b[49m\u001b[43m,\u001b[49m\n\u001b[1;32m   1742\u001b[0m \u001b[43m    \u001b[49m\u001b[43merrors\u001b[49m\u001b[38;5;241;43m=\u001b[39;49m\u001b[38;5;28;43mself\u001b[39;49m\u001b[38;5;241;43m.\u001b[39;49m\u001b[43moptions\u001b[49m\u001b[38;5;241;43m.\u001b[39;49m\u001b[43mget\u001b[49m\u001b[43m(\u001b[49m\u001b[38;5;124;43m\"\u001b[39;49m\u001b[38;5;124;43mencoding_errors\u001b[39;49m\u001b[38;5;124;43m\"\u001b[39;49m\u001b[43m,\u001b[49m\u001b[43m \u001b[49m\u001b[38;5;124;43m\"\u001b[39;49m\u001b[38;5;124;43mstrict\u001b[39;49m\u001b[38;5;124;43m\"\u001b[39;49m\u001b[43m)\u001b[49m\u001b[43m,\u001b[49m\n\u001b[1;32m   1743\u001b[0m \u001b[43m    \u001b[49m\u001b[43mstorage_options\u001b[49m\u001b[38;5;241;43m=\u001b[39;49m\u001b[38;5;28;43mself\u001b[39;49m\u001b[38;5;241;43m.\u001b[39;49m\u001b[43moptions\u001b[49m\u001b[38;5;241;43m.\u001b[39;49m\u001b[43mget\u001b[49m\u001b[43m(\u001b[49m\u001b[38;5;124;43m\"\u001b[39;49m\u001b[38;5;124;43mstorage_options\u001b[39;49m\u001b[38;5;124;43m\"\u001b[39;49m\u001b[43m,\u001b[49m\u001b[43m \u001b[49m\u001b[38;5;28;43;01mNone\u001b[39;49;00m\u001b[43m)\u001b[49m\u001b[43m,\u001b[49m\n\u001b[1;32m   1744\u001b[0m \u001b[43m\u001b[49m\u001b[43m)\u001b[49m\n\u001b[1;32m   1745\u001b[0m \u001b[38;5;28;01massert\u001b[39;00m \u001b[38;5;28mself\u001b[39m\u001b[38;5;241m.\u001b[39mhandles \u001b[38;5;129;01mis\u001b[39;00m \u001b[38;5;129;01mnot\u001b[39;00m \u001b[38;5;28;01mNone\u001b[39;00m\n\u001b[1;32m   1746\u001b[0m f \u001b[38;5;241m=\u001b[39m \u001b[38;5;28mself\u001b[39m\u001b[38;5;241m.\u001b[39mhandles\u001b[38;5;241m.\u001b[39mhandle\n",
            "File \u001b[0;32m/lib/python3.11/site-packages/pandas/io/common.py:856\u001b[0m, in \u001b[0;36mget_handle\u001b[0;34m(path_or_buf, mode, encoding, compression, memory_map, is_text, errors, storage_options)\u001b[0m\n\u001b[1;32m    851\u001b[0m \u001b[38;5;28;01melif\u001b[39;00m \u001b[38;5;28misinstance\u001b[39m(handle, \u001b[38;5;28mstr\u001b[39m):\n\u001b[1;32m    852\u001b[0m     \u001b[38;5;66;03m# Check whether the filename is to be opened in binary mode.\u001b[39;00m\n\u001b[1;32m    853\u001b[0m     \u001b[38;5;66;03m# Binary mode does not support 'encoding' and 'newline'.\u001b[39;00m\n\u001b[1;32m    854\u001b[0m     \u001b[38;5;28;01mif\u001b[39;00m ioargs\u001b[38;5;241m.\u001b[39mencoding \u001b[38;5;129;01mand\u001b[39;00m \u001b[38;5;124m\"\u001b[39m\u001b[38;5;124mb\u001b[39m\u001b[38;5;124m\"\u001b[39m \u001b[38;5;129;01mnot\u001b[39;00m \u001b[38;5;129;01min\u001b[39;00m ioargs\u001b[38;5;241m.\u001b[39mmode:\n\u001b[1;32m    855\u001b[0m         \u001b[38;5;66;03m# Encoding\u001b[39;00m\n\u001b[0;32m--> 856\u001b[0m         handle \u001b[38;5;241m=\u001b[39m \u001b[38;5;28;43mopen\u001b[39;49m\u001b[43m(\u001b[49m\n\u001b[1;32m    857\u001b[0m \u001b[43m            \u001b[49m\u001b[43mhandle\u001b[49m\u001b[43m,\u001b[49m\n\u001b[1;32m    858\u001b[0m \u001b[43m            \u001b[49m\u001b[43mioargs\u001b[49m\u001b[38;5;241;43m.\u001b[39;49m\u001b[43mmode\u001b[49m\u001b[43m,\u001b[49m\n\u001b[1;32m    859\u001b[0m \u001b[43m            \u001b[49m\u001b[43mencoding\u001b[49m\u001b[38;5;241;43m=\u001b[39;49m\u001b[43mioargs\u001b[49m\u001b[38;5;241;43m.\u001b[39;49m\u001b[43mencoding\u001b[49m\u001b[43m,\u001b[49m\n\u001b[1;32m    860\u001b[0m \u001b[43m            \u001b[49m\u001b[43merrors\u001b[49m\u001b[38;5;241;43m=\u001b[39;49m\u001b[43merrors\u001b[49m\u001b[43m,\u001b[49m\n\u001b[1;32m    861\u001b[0m \u001b[43m            \u001b[49m\u001b[43mnewline\u001b[49m\u001b[38;5;241;43m=\u001b[39;49m\u001b[38;5;124;43m\"\u001b[39;49m\u001b[38;5;124;43m\"\u001b[39;49m\u001b[43m,\u001b[49m\n\u001b[1;32m    862\u001b[0m \u001b[43m        \u001b[49m\u001b[43m)\u001b[49m\n\u001b[1;32m    863\u001b[0m     \u001b[38;5;28;01melse\u001b[39;00m:\n\u001b[1;32m    864\u001b[0m         \u001b[38;5;66;03m# Binary mode\u001b[39;00m\n\u001b[1;32m    865\u001b[0m         handle \u001b[38;5;241m=\u001b[39m \u001b[38;5;28mopen\u001b[39m(handle, ioargs\u001b[38;5;241m.\u001b[39mmode)\n",
            "\u001b[0;31mFileNotFoundError\u001b[0m: [Errno 44] No such file or directory: 'train.csv'"
          ],
          "output_type": "error"
        }
      ],
      "id": "11d59529"
    },
    {
      "cell_type": "code",
      "source": "sales_data.head()",
      "metadata": {
        "_kg_hide-input": true,
        "papermill": {
          "duration": 0.046767,
          "end_time": "2022-08-15T18:47:50.438388",
          "exception": false,
          "start_time": "2022-08-15T18:47:50.391621",
          "status": "completed"
        },
        "tags": [],
        "trusted": true
      },
      "execution_count": 5,
      "outputs": [
        {
          "ename": "<class 'NameError'>",
          "evalue": "name 'sales_data' is not defined",
          "traceback": [
            "\u001b[0;31m---------------------------------------------------------------------------\u001b[0m",
            "\u001b[0;31mNameError\u001b[0m                                 Traceback (most recent call last)",
            "Cell \u001b[0;32mIn[5], line 1\u001b[0m\n\u001b[0;32m----> 1\u001b[0m \u001b[43msales_data\u001b[49m\u001b[38;5;241m.\u001b[39mhead()\n",
            "\u001b[0;31mNameError\u001b[0m: name 'sales_data' is not defined"
          ],
          "output_type": "error"
        }
      ],
      "id": "60997425"
    },
    {
      "cell_type": "code",
      "source": "#Checking for Null values\ndef missing_values_table(df):\n        mis_val = df.isnull().sum()\n        mis_val_percent = 100 * df.isnull().sum() / len(df)\n        mis_val_tab = pd.concat([mis_val, mis_val_percent], axis=1)\n        ren_mis_val_table_columns = mis_val_tab.rename(columns = {0 : 'Missing Values', 1 : '% of Total Missing Values'})\n        ren_mis_val_table_columns = ren_mis_val_table_columns[ren_mis_val_table_columns.iloc[:,1] != 0].sort_values(\n        '% of Total Missing Values', ascending=False).round(1)\n        \n        print (\"\\033[1mThe dataframe has total \" + str(df.shape[1]) + \" columns.\\033[0m \\n\")\n        print (\"\\033[1mThere are \" \n               + str(ren_mis_val_table_columns.shape[0]) + \" columns that have missing values.\\033[0m \\n\")\n        \n        return ren_mis_val_table_columns",
      "metadata": {
        "_kg_hide-input": true,
        "papermill": {
          "duration": 0.02574,
          "end_time": "2022-08-15T18:47:50.506253",
          "exception": false,
          "start_time": "2022-08-15T18:47:50.480513",
          "status": "completed"
        },
        "tags": [],
        "trusted": true
      },
      "execution_count": 6,
      "outputs": [],
      "id": "b65cdfb4"
    },
    {
      "cell_type": "code",
      "source": "missing_val_sales = missing_values_table(sales_data)\nmissing_val_sales.style.background_gradient(cmap='Oranges')",
      "metadata": {
        "_kg_hide-input": true,
        "papermill": {
          "duration": 0.121153,
          "end_time": "2022-08-15T18:47:50.641813",
          "exception": false,
          "start_time": "2022-08-15T18:47:50.520660",
          "status": "completed"
        },
        "tags": [],
        "trusted": true
      },
      "execution_count": 7,
      "outputs": [
        {
          "ename": "<class 'NameError'>",
          "evalue": "name 'sales_data' is not defined",
          "traceback": [
            "\u001b[0;31m---------------------------------------------------------------------------\u001b[0m",
            "\u001b[0;31mNameError\u001b[0m                                 Traceback (most recent call last)",
            "Cell \u001b[0;32mIn[7], line 1\u001b[0m\n\u001b[0;32m----> 1\u001b[0m missing_val_sales \u001b[38;5;241m=\u001b[39m missing_values_table(\u001b[43msales_data\u001b[49m)\n\u001b[1;32m      2\u001b[0m missing_val_sales\u001b[38;5;241m.\u001b[39mstyle\u001b[38;5;241m.\u001b[39mbackground_gradient(cmap\u001b[38;5;241m=\u001b[39m\u001b[38;5;124m'\u001b[39m\u001b[38;5;124mOranges\u001b[39m\u001b[38;5;124m'\u001b[39m)\n",
            "\u001b[0;31mNameError\u001b[0m: name 'sales_data' is not defined"
          ],
          "output_type": "error"
        }
      ],
      "id": "314e5390"
    },
    {
      "cell_type": "markdown",
      "source": "# **Data Cleaning and Structuring**",
      "metadata": {
        "papermill": {
          "duration": 0.01373,
          "end_time": "2022-08-15T18:47:50.670962",
          "exception": false,
          "start_time": "2022-08-15T18:47:50.657232",
          "status": "completed"
        },
        "tags": []
      },
      "id": "1a604bf6"
    },
    {
      "cell_type": "code",
      "source": "\"\"\"\nWe need to remove the columns that is not required for our analysis\nWe need to check the null values. Fill them if possible or remove them\nAlso we need to check data type of each columns and change them according to our requirement for analysis\n\"\"\"\nsales_data.drop(['Row ID','Customer ID','Country','Product ID'],axis = 1, inplace = True)\nsales_data['Order Date'] = pd.to_datetime(sales_data['Order Date'], format='%d/%m/%Y')\nsales_data['Ship Date'] = pd.to_datetime(sales_data['Ship Date'], format='%d/%m/%Y') \nsales_data.set_index('Order ID',inplace=True)",
      "metadata": {
        "_kg_hide-input": true,
        "papermill": {
          "duration": 0.053353,
          "end_time": "2022-08-15T18:47:50.766232",
          "exception": false,
          "start_time": "2022-08-15T18:47:50.712879",
          "status": "completed"
        },
        "tags": [],
        "trusted": true
      },
      "execution_count": 8,
      "outputs": [
        {
          "ename": "<class 'NameError'>",
          "evalue": "name 'sales_data' is not defined",
          "traceback": [
            "\u001b[0;31m---------------------------------------------------------------------------\u001b[0m",
            "\u001b[0;31mNameError\u001b[0m                                 Traceback (most recent call last)",
            "Cell \u001b[0;32mIn[8], line 6\u001b[0m\n\u001b[1;32m      1\u001b[0m \u001b[38;5;124;03m\"\"\"\u001b[39;00m\n\u001b[1;32m      2\u001b[0m \u001b[38;5;124;03mWe need to remove the columns that is not required for our analysis\u001b[39;00m\n\u001b[1;32m      3\u001b[0m \u001b[38;5;124;03mWe need to check the null values. Fill them if possible or remove them\u001b[39;00m\n\u001b[1;32m      4\u001b[0m \u001b[38;5;124;03mAlso we need to check data type of each columns and change them according to our requirement for analysis\u001b[39;00m\n\u001b[1;32m      5\u001b[0m \u001b[38;5;124;03m\"\"\"\u001b[39;00m\n\u001b[0;32m----> 6\u001b[0m \u001b[43msales_data\u001b[49m\u001b[38;5;241m.\u001b[39mdrop([\u001b[38;5;124m'\u001b[39m\u001b[38;5;124mRow ID\u001b[39m\u001b[38;5;124m'\u001b[39m,\u001b[38;5;124m'\u001b[39m\u001b[38;5;124mCustomer ID\u001b[39m\u001b[38;5;124m'\u001b[39m,\u001b[38;5;124m'\u001b[39m\u001b[38;5;124mCountry\u001b[39m\u001b[38;5;124m'\u001b[39m,\u001b[38;5;124m'\u001b[39m\u001b[38;5;124mProduct ID\u001b[39m\u001b[38;5;124m'\u001b[39m],axis \u001b[38;5;241m=\u001b[39m \u001b[38;5;241m1\u001b[39m, inplace \u001b[38;5;241m=\u001b[39m \u001b[38;5;28;01mTrue\u001b[39;00m)\n\u001b[1;32m      7\u001b[0m sales_data[\u001b[38;5;124m'\u001b[39m\u001b[38;5;124mOrder Date\u001b[39m\u001b[38;5;124m'\u001b[39m] \u001b[38;5;241m=\u001b[39m pd\u001b[38;5;241m.\u001b[39mto_datetime(sales_data[\u001b[38;5;124m'\u001b[39m\u001b[38;5;124mOrder Date\u001b[39m\u001b[38;5;124m'\u001b[39m], \u001b[38;5;28mformat\u001b[39m\u001b[38;5;241m=\u001b[39m\u001b[38;5;124m'\u001b[39m\u001b[38;5;132;01m%d\u001b[39;00m\u001b[38;5;124m/\u001b[39m\u001b[38;5;124m%\u001b[39m\u001b[38;5;124mm/\u001b[39m\u001b[38;5;124m%\u001b[39m\u001b[38;5;124mY\u001b[39m\u001b[38;5;124m'\u001b[39m)\n\u001b[1;32m      8\u001b[0m sales_data[\u001b[38;5;124m'\u001b[39m\u001b[38;5;124mShip Date\u001b[39m\u001b[38;5;124m'\u001b[39m] \u001b[38;5;241m=\u001b[39m pd\u001b[38;5;241m.\u001b[39mto_datetime(sales_data[\u001b[38;5;124m'\u001b[39m\u001b[38;5;124mShip Date\u001b[39m\u001b[38;5;124m'\u001b[39m], \u001b[38;5;28mformat\u001b[39m\u001b[38;5;241m=\u001b[39m\u001b[38;5;124m'\u001b[39m\u001b[38;5;132;01m%d\u001b[39;00m\u001b[38;5;124m/\u001b[39m\u001b[38;5;124m%\u001b[39m\u001b[38;5;124mm/\u001b[39m\u001b[38;5;124m%\u001b[39m\u001b[38;5;124mY\u001b[39m\u001b[38;5;124m'\u001b[39m) \n",
            "\u001b[0;31mNameError\u001b[0m: name 'sales_data' is not defined"
          ],
          "output_type": "error"
        }
      ],
      "id": "342e3c70"
    },
    {
      "cell_type": "code",
      "source": "#null values\nsales_data[sales_data['Postal Code'].isnull()]",
      "metadata": {
        "_kg_hide-input": true,
        "papermill": {
          "duration": 0.04495,
          "end_time": "2022-08-15T18:47:50.869922",
          "exception": false,
          "start_time": "2022-08-15T18:47:50.824972",
          "status": "completed"
        },
        "tags": [],
        "trusted": true
      },
      "execution_count": 9,
      "outputs": [
        {
          "ename": "<class 'NameError'>",
          "evalue": "name 'sales_data' is not defined",
          "traceback": [
            "\u001b[0;31m---------------------------------------------------------------------------\u001b[0m",
            "\u001b[0;31mNameError\u001b[0m                                 Traceback (most recent call last)",
            "Cell \u001b[0;32mIn[9], line 2\u001b[0m\n\u001b[1;32m      1\u001b[0m \u001b[38;5;66;03m#null values\u001b[39;00m\n\u001b[0;32m----> 2\u001b[0m \u001b[43msales_data\u001b[49m[sales_data[\u001b[38;5;124m'\u001b[39m\u001b[38;5;124mPostal Code\u001b[39m\u001b[38;5;124m'\u001b[39m]\u001b[38;5;241m.\u001b[39misnull()]\n",
            "\u001b[0;31mNameError\u001b[0m: name 'sales_data' is not defined"
          ],
          "output_type": "error"
        }
      ],
      "id": "976c28c8"
    },
    {
      "cell_type": "code",
      "source": "# Postal code for Burlington city is 5401\nsales_data['Postal Code'] = sales_data['Postal Code'].fillna(5401) ",
      "metadata": {
        "_kg_hide-input": true,
        "papermill": {
          "duration": 0.02377,
          "end_time": "2022-08-15T18:47:50.908727",
          "exception": false,
          "start_time": "2022-08-15T18:47:50.884957",
          "status": "completed"
        },
        "tags": [],
        "trusted": true
      },
      "execution_count": 10,
      "outputs": [
        {
          "ename": "<class 'NameError'>",
          "evalue": "name 'sales_data' is not defined",
          "traceback": [
            "\u001b[0;31m---------------------------------------------------------------------------\u001b[0m",
            "\u001b[0;31mNameError\u001b[0m                                 Traceback (most recent call last)",
            "Cell \u001b[0;32mIn[10], line 2\u001b[0m\n\u001b[1;32m      1\u001b[0m \u001b[38;5;66;03m# Postal code for Burlington city is 5401\u001b[39;00m\n\u001b[0;32m----> 2\u001b[0m sales_data[\u001b[38;5;124m'\u001b[39m\u001b[38;5;124mPostal Code\u001b[39m\u001b[38;5;124m'\u001b[39m] \u001b[38;5;241m=\u001b[39m \u001b[43msales_data\u001b[49m[\u001b[38;5;124m'\u001b[39m\u001b[38;5;124mPostal Code\u001b[39m\u001b[38;5;124m'\u001b[39m]\u001b[38;5;241m.\u001b[39mfillna(\u001b[38;5;241m5401\u001b[39m) \n",
            "\u001b[0;31mNameError\u001b[0m: name 'sales_data' is not defined"
          ],
          "output_type": "error"
        }
      ],
      "id": "ba600cb2"
    },
    {
      "cell_type": "code",
      "source": "sales_data.head(3)",
      "metadata": {
        "_kg_hide-input": true,
        "papermill": {
          "duration": 0.037416,
          "end_time": "2022-08-15T18:47:50.989636",
          "exception": false,
          "start_time": "2022-08-15T18:47:50.952220",
          "status": "completed"
        },
        "tags": [],
        "trusted": true
      },
      "execution_count": 11,
      "outputs": [
        {
          "ename": "<class 'NameError'>",
          "evalue": "name 'sales_data' is not defined",
          "traceback": [
            "\u001b[0;31m---------------------------------------------------------------------------\u001b[0m",
            "\u001b[0;31mNameError\u001b[0m                                 Traceback (most recent call last)",
            "Cell \u001b[0;32mIn[11], line 1\u001b[0m\n\u001b[0;32m----> 1\u001b[0m \u001b[43msales_data\u001b[49m\u001b[38;5;241m.\u001b[39mhead(\u001b[38;5;241m3\u001b[39m)\n",
            "\u001b[0;31mNameError\u001b[0m: name 'sales_data' is not defined"
          ],
          "output_type": "error"
        }
      ],
      "id": "d54d9008"
    },
    {
      "cell_type": "code",
      "source": "print('\\033[1mSales Data Info :\\033[0m \\n')\nprint(sales_data.info())",
      "metadata": {
        "_kg_hide-input": true,
        "papermill": {
          "duration": 0.0395,
          "end_time": "2022-08-15T18:47:51.073322",
          "exception": false,
          "start_time": "2022-08-15T18:47:51.033822",
          "status": "completed"
        },
        "tags": [],
        "trusted": true
      },
      "execution_count": 12,
      "outputs": [
        {
          "name": "stdout",
          "text": "\u001b[1mSales Data Info :\u001b[0m \n\n",
          "output_type": "stream"
        },
        {
          "ename": "<class 'NameError'>",
          "evalue": "name 'sales_data' is not defined",
          "traceback": [
            "\u001b[0;31m---------------------------------------------------------------------------\u001b[0m",
            "\u001b[0;31mNameError\u001b[0m                                 Traceback (most recent call last)",
            "Cell \u001b[0;32mIn[12], line 2\u001b[0m\n\u001b[1;32m      1\u001b[0m \u001b[38;5;28mprint\u001b[39m(\u001b[38;5;124m'\u001b[39m\u001b[38;5;130;01m\\033\u001b[39;00m\u001b[38;5;124m[1mSales Data Info :\u001b[39m\u001b[38;5;130;01m\\033\u001b[39;00m\u001b[38;5;124m[0m \u001b[39m\u001b[38;5;130;01m\\n\u001b[39;00m\u001b[38;5;124m'\u001b[39m)\n\u001b[0;32m----> 2\u001b[0m \u001b[38;5;28mprint\u001b[39m(\u001b[43msales_data\u001b[49m\u001b[38;5;241m.\u001b[39minfo())\n",
            "\u001b[0;31mNameError\u001b[0m: name 'sales_data' is not defined"
          ],
          "output_type": "error"
        }
      ],
      "id": "9974fa5e"
    },
    {
      "cell_type": "code",
      "source": "print('\\033[1mSales Data Shape(Columns , Rows) :\\033[0m \\n')\nprint(sales_data.shape)",
      "metadata": {
        "_kg_hide-input": true,
        "papermill": {
          "duration": 0.02433,
          "end_time": "2022-08-15T18:47:51.142218",
          "exception": false,
          "start_time": "2022-08-15T18:47:51.117888",
          "status": "completed"
        },
        "tags": [],
        "trusted": true
      },
      "execution_count": 13,
      "outputs": [
        {
          "name": "stdout",
          "text": "\u001b[1mSales Data Shape(Columns , Rows) :\u001b[0m \n\n",
          "output_type": "stream"
        },
        {
          "ename": "<class 'NameError'>",
          "evalue": "name 'sales_data' is not defined",
          "traceback": [
            "\u001b[0;31m---------------------------------------------------------------------------\u001b[0m",
            "\u001b[0;31mNameError\u001b[0m                                 Traceback (most recent call last)",
            "Cell \u001b[0;32mIn[13], line 2\u001b[0m\n\u001b[1;32m      1\u001b[0m \u001b[38;5;28mprint\u001b[39m(\u001b[38;5;124m'\u001b[39m\u001b[38;5;130;01m\\033\u001b[39;00m\u001b[38;5;124m[1mSales Data Shape(Columns , Rows) :\u001b[39m\u001b[38;5;130;01m\\033\u001b[39;00m\u001b[38;5;124m[0m \u001b[39m\u001b[38;5;130;01m\\n\u001b[39;00m\u001b[38;5;124m'\u001b[39m)\n\u001b[0;32m----> 2\u001b[0m \u001b[38;5;28mprint\u001b[39m(\u001b[43msales_data\u001b[49m\u001b[38;5;241m.\u001b[39mshape)\n",
            "\u001b[0;31mNameError\u001b[0m: name 'sales_data' is not defined"
          ],
          "output_type": "error"
        }
      ],
      "id": "33268876"
    },
    {
      "cell_type": "code",
      "source": "print('\\033[1mSales Data Statistic :\\033[0m \\n')\nprint(sales_data['Sales'].describe())",
      "metadata": {
        "_kg_hide-input": true,
        "papermill": {
          "duration": 0.030394,
          "end_time": "2022-08-15T18:47:51.216943",
          "exception": false,
          "start_time": "2022-08-15T18:47:51.186549",
          "status": "completed"
        },
        "tags": [],
        "trusted": true
      },
      "execution_count": 14,
      "outputs": [
        {
          "name": "stdout",
          "text": "\u001b[1mSales Data Statistic :\u001b[0m \n\n",
          "output_type": "stream"
        },
        {
          "ename": "<class 'NameError'>",
          "evalue": "name 'sales_data' is not defined",
          "traceback": [
            "\u001b[0;31m---------------------------------------------------------------------------\u001b[0m",
            "\u001b[0;31mNameError\u001b[0m                                 Traceback (most recent call last)",
            "Cell \u001b[0;32mIn[14], line 2\u001b[0m\n\u001b[1;32m      1\u001b[0m \u001b[38;5;28mprint\u001b[39m(\u001b[38;5;124m'\u001b[39m\u001b[38;5;130;01m\\033\u001b[39;00m\u001b[38;5;124m[1mSales Data Statistic :\u001b[39m\u001b[38;5;130;01m\\033\u001b[39;00m\u001b[38;5;124m[0m \u001b[39m\u001b[38;5;130;01m\\n\u001b[39;00m\u001b[38;5;124m'\u001b[39m)\n\u001b[0;32m----> 2\u001b[0m \u001b[38;5;28mprint\u001b[39m(\u001b[43msales_data\u001b[49m[\u001b[38;5;124m'\u001b[39m\u001b[38;5;124mSales\u001b[39m\u001b[38;5;124m'\u001b[39m]\u001b[38;5;241m.\u001b[39mdescribe())\n",
            "\u001b[0;31mNameError\u001b[0m: name 'sales_data' is not defined"
          ],
          "output_type": "error"
        }
      ],
      "id": "50579595"
    },
    {
      "cell_type": "code",
      "source": "print('\\033[1mFirst Sales Order date :\\033[0m \\n')\nprint(f\"\\033[1m{sales_data['Order Date'].min()}\\033[0m\")",
      "metadata": {
        "_kg_hide-input": true,
        "papermill": {
          "duration": 0.026579,
          "end_time": "2022-08-15T18:47:51.289381",
          "exception": false,
          "start_time": "2022-08-15T18:47:51.262802",
          "status": "completed"
        },
        "tags": [],
        "trusted": true
      },
      "execution_count": 15,
      "outputs": [
        {
          "name": "stdout",
          "text": "\u001b[1mFirst Sales Order date :\u001b[0m \n\n",
          "output_type": "stream"
        },
        {
          "ename": "<class 'NameError'>",
          "evalue": "name 'sales_data' is not defined",
          "traceback": [
            "\u001b[0;31m---------------------------------------------------------------------------\u001b[0m",
            "\u001b[0;31mNameError\u001b[0m                                 Traceback (most recent call last)",
            "Cell \u001b[0;32mIn[15], line 2\u001b[0m\n\u001b[1;32m      1\u001b[0m \u001b[38;5;28mprint\u001b[39m(\u001b[38;5;124m'\u001b[39m\u001b[38;5;130;01m\\033\u001b[39;00m\u001b[38;5;124m[1mFirst Sales Order date :\u001b[39m\u001b[38;5;130;01m\\033\u001b[39;00m\u001b[38;5;124m[0m \u001b[39m\u001b[38;5;130;01m\\n\u001b[39;00m\u001b[38;5;124m'\u001b[39m)\n\u001b[0;32m----> 2\u001b[0m \u001b[38;5;28mprint\u001b[39m(\u001b[38;5;124mf\u001b[39m\u001b[38;5;124m\"\u001b[39m\u001b[38;5;130;01m\\033\u001b[39;00m\u001b[38;5;124m[1m\u001b[39m\u001b[38;5;132;01m{\u001b[39;00m\u001b[43msales_data\u001b[49m[\u001b[38;5;124m'\u001b[39m\u001b[38;5;124mOrder Date\u001b[39m\u001b[38;5;124m'\u001b[39m]\u001b[38;5;241m.\u001b[39mmin()\u001b[38;5;132;01m}\u001b[39;00m\u001b[38;5;130;01m\\033\u001b[39;00m\u001b[38;5;124m[0m\u001b[39m\u001b[38;5;124m\"\u001b[39m)\n",
            "\u001b[0;31mNameError\u001b[0m: name 'sales_data' is not defined"
          ],
          "output_type": "error"
        }
      ],
      "id": "f1730944"
    },
    {
      "cell_type": "code",
      "source": "print('\\033[1mLast Sales Order date :\\033[0m \\n')\nprint(f\"\\033[1m{sales_data['Order Date'].max()}\\033[0m\")",
      "metadata": {
        "_kg_hide-input": true,
        "papermill": {
          "duration": 0.024014,
          "end_time": "2022-08-15T18:47:51.358231",
          "exception": false,
          "start_time": "2022-08-15T18:47:51.334217",
          "status": "completed"
        },
        "tags": [],
        "trusted": true
      },
      "execution_count": 16,
      "outputs": [
        {
          "name": "stdout",
          "text": "\u001b[1mLast Sales Order date :\u001b[0m \n\n",
          "output_type": "stream"
        },
        {
          "ename": "<class 'NameError'>",
          "evalue": "name 'sales_data' is not defined",
          "traceback": [
            "\u001b[0;31m---------------------------------------------------------------------------\u001b[0m",
            "\u001b[0;31mNameError\u001b[0m                                 Traceback (most recent call last)",
            "Cell \u001b[0;32mIn[16], line 2\u001b[0m\n\u001b[1;32m      1\u001b[0m \u001b[38;5;28mprint\u001b[39m(\u001b[38;5;124m'\u001b[39m\u001b[38;5;130;01m\\033\u001b[39;00m\u001b[38;5;124m[1mLast Sales Order date :\u001b[39m\u001b[38;5;130;01m\\033\u001b[39;00m\u001b[38;5;124m[0m \u001b[39m\u001b[38;5;130;01m\\n\u001b[39;00m\u001b[38;5;124m'\u001b[39m)\n\u001b[0;32m----> 2\u001b[0m \u001b[38;5;28mprint\u001b[39m(\u001b[38;5;124mf\u001b[39m\u001b[38;5;124m\"\u001b[39m\u001b[38;5;130;01m\\033\u001b[39;00m\u001b[38;5;124m[1m\u001b[39m\u001b[38;5;132;01m{\u001b[39;00m\u001b[43msales_data\u001b[49m[\u001b[38;5;124m'\u001b[39m\u001b[38;5;124mOrder Date\u001b[39m\u001b[38;5;124m'\u001b[39m]\u001b[38;5;241m.\u001b[39mmax()\u001b[38;5;132;01m}\u001b[39;00m\u001b[38;5;130;01m\\033\u001b[39;00m\u001b[38;5;124m[0m\u001b[39m\u001b[38;5;124m\"\u001b[39m)\n",
            "\u001b[0;31mNameError\u001b[0m: name 'sales_data' is not defined"
          ],
          "output_type": "error"
        }
      ],
      "id": "59af8952"
    },
    {
      "cell_type": "markdown",
      "source": "# **Sales Date Analysis**",
      "metadata": {
        "papermill": {
          "duration": 0.014681,
          "end_time": "2022-08-15T18:47:51.387908",
          "exception": false,
          "start_time": "2022-08-15T18:47:51.373227",
          "status": "completed"
        },
        "tags": []
      },
      "id": "fbb4e481"
    },
    {
      "cell_type": "code",
      "source": "sales_data['Month_Year'] = sales_data['Order Date'].apply(lambda x: x.strftime('%Y-%m'))\nsales_data['Year'] = sales_data['Order Date'].apply(lambda x: x.strftime('%Y'))",
      "metadata": {
        "_kg_hide-input": true,
        "papermill": {
          "duration": 0.147415,
          "end_time": "2022-08-15T18:47:51.550257",
          "exception": false,
          "start_time": "2022-08-15T18:47:51.402842",
          "status": "completed"
        },
        "tags": [],
        "trusted": true
      },
      "execution_count": 17,
      "outputs": [
        {
          "ename": "<class 'NameError'>",
          "evalue": "name 'sales_data' is not defined",
          "traceback": [
            "\u001b[0;31m---------------------------------------------------------------------------\u001b[0m",
            "\u001b[0;31mNameError\u001b[0m                                 Traceback (most recent call last)",
            "Cell \u001b[0;32mIn[17], line 1\u001b[0m\n\u001b[0;32m----> 1\u001b[0m sales_data[\u001b[38;5;124m'\u001b[39m\u001b[38;5;124mMonth_Year\u001b[39m\u001b[38;5;124m'\u001b[39m] \u001b[38;5;241m=\u001b[39m \u001b[43msales_data\u001b[49m[\u001b[38;5;124m'\u001b[39m\u001b[38;5;124mOrder Date\u001b[39m\u001b[38;5;124m'\u001b[39m]\u001b[38;5;241m.\u001b[39mapply(\u001b[38;5;28;01mlambda\u001b[39;00m x: x\u001b[38;5;241m.\u001b[39mstrftime(\u001b[38;5;124m'\u001b[39m\u001b[38;5;124m%\u001b[39m\u001b[38;5;124mY-\u001b[39m\u001b[38;5;124m%\u001b[39m\u001b[38;5;124mm\u001b[39m\u001b[38;5;124m'\u001b[39m))\n\u001b[1;32m      2\u001b[0m sales_data[\u001b[38;5;124m'\u001b[39m\u001b[38;5;124mYear\u001b[39m\u001b[38;5;124m'\u001b[39m] \u001b[38;5;241m=\u001b[39m sales_data[\u001b[38;5;124m'\u001b[39m\u001b[38;5;124mOrder Date\u001b[39m\u001b[38;5;124m'\u001b[39m]\u001b[38;5;241m.\u001b[39mapply(\u001b[38;5;28;01mlambda\u001b[39;00m x: x\u001b[38;5;241m.\u001b[39mstrftime(\u001b[38;5;124m'\u001b[39m\u001b[38;5;124m%\u001b[39m\u001b[38;5;124mY\u001b[39m\u001b[38;5;124m'\u001b[39m))\n",
            "\u001b[0;31mNameError\u001b[0m: name 'sales_data' is not defined"
          ],
          "output_type": "error"
        }
      ],
      "id": "233cc45b"
    },
    {
      "cell_type": "code",
      "source": "monthly_trend = sales_data.groupby(['Month_Year']).sum().drop('Postal Code', axis=1).round(2)\nmonthly_trend.reset_index(inplace=True)\n\n# Change the color of the markers\ncolr = np.arange(0, monthly_trend.values.size)\nmarker_color = []\nfor i in range(len(colr)):\n    if i % 2 == 0:\n        marker_color.append('#0000FF')\n    else:\n        marker_color.append('#FF0000')\n\nfig = go.Figure(data=[go.Scatter(x=monthly_trend['Month_Year'], y=monthly_trend['Sales'], mode='lines',\n                                 marker=dict(color=marker_color))], layout=go.Layout(title='Total Monthly Sales'))\nfig.update_traces(hoverinfo='x+y', textfont_size=10)\nfig.update_layout(height=600, autosize=True, plot_bgcolor='rgb(205, 275, 275)')",
      "metadata": {
        "_kg_hide-input": true,
        "papermill": {
          "duration": 0.117437,
          "end_time": "2022-08-15T18:47:51.713047",
          "exception": false,
          "start_time": "2022-08-15T18:47:51.595610",
          "status": "completed"
        },
        "tags": [],
        "trusted": true
      },
      "execution_count": 18,
      "outputs": [
        {
          "ename": "<class 'NameError'>",
          "evalue": "name 'sales_data' is not defined",
          "traceback": [
            "\u001b[0;31m---------------------------------------------------------------------------\u001b[0m",
            "\u001b[0;31mNameError\u001b[0m                                 Traceback (most recent call last)",
            "Cell \u001b[0;32mIn[18], line 1\u001b[0m\n\u001b[0;32m----> 1\u001b[0m monthly_trend \u001b[38;5;241m=\u001b[39m \u001b[43msales_data\u001b[49m\u001b[38;5;241m.\u001b[39mgroupby([\u001b[38;5;124m'\u001b[39m\u001b[38;5;124mMonth_Year\u001b[39m\u001b[38;5;124m'\u001b[39m])\u001b[38;5;241m.\u001b[39msum()\u001b[38;5;241m.\u001b[39mdrop(\u001b[38;5;124m'\u001b[39m\u001b[38;5;124mPostal Code\u001b[39m\u001b[38;5;124m'\u001b[39m, axis\u001b[38;5;241m=\u001b[39m\u001b[38;5;241m1\u001b[39m)\u001b[38;5;241m.\u001b[39mround(\u001b[38;5;241m2\u001b[39m)\n\u001b[1;32m      2\u001b[0m monthly_trend\u001b[38;5;241m.\u001b[39mreset_index(inplace\u001b[38;5;241m=\u001b[39m\u001b[38;5;28;01mTrue\u001b[39;00m)\n\u001b[1;32m      4\u001b[0m \u001b[38;5;66;03m# Change the color of the markers\u001b[39;00m\n",
            "\u001b[0;31mNameError\u001b[0m: name 'sales_data' is not defined"
          ],
          "output_type": "error"
        }
      ],
      "id": "b3e9908d"
    },
    {
      "cell_type": "markdown",
      "source": "> **Total Yealy Sales**",
      "metadata": {
        "papermill": {
          "duration": 0.020925,
          "end_time": "2022-08-15T18:47:51.756204",
          "exception": false,
          "start_time": "2022-08-15T18:47:51.735279",
          "status": "completed"
        },
        "tags": []
      },
      "id": "e451d98d"
    },
    {
      "cell_type": "code",
      "source": "yearly_trend = sales_data.groupby(['Year']).sum().drop('Postal Code',axis=1).round(2)\n\nprint('\\033[1mTotal yearly sales :\\033[0m \\n')\nprint(f'\\033[1m{yearly_trend}\\033[0m \\n')\nyearly_trend.reset_index(inplace=True)\n\ncolr=np.arange(0,yearly_trend.values.size)\nfig=go.Figure(data=[go.Scatter(x=yearly_trend['Year'] ,y=yearly_trend['Sales'],mode='lines', marker=dict(\n                color=colr))],layout=go.Layout(title='Total Yealy Sales'))\nfig.update_traces(hoverinfo='x+y', textfont_size=10)               \nfig.update_layout(height=600,autosize=True ,plot_bgcolor='rgb(205, 275, 275)')",
      "metadata": {
        "_kg_hide-input": true,
        "papermill": {
          "duration": 0.054187,
          "end_time": "2022-08-15T18:47:51.831125",
          "exception": false,
          "start_time": "2022-08-15T18:47:51.776938",
          "status": "completed"
        },
        "tags": [],
        "trusted": true
      },
      "execution_count": 19,
      "outputs": [
        {
          "ename": "<class 'NameError'>",
          "evalue": "name 'sales_data' is not defined",
          "traceback": [
            "\u001b[0;31m---------------------------------------------------------------------------\u001b[0m",
            "\u001b[0;31mNameError\u001b[0m                                 Traceback (most recent call last)",
            "Cell \u001b[0;32mIn[19], line 1\u001b[0m\n\u001b[0;32m----> 1\u001b[0m yearly_trend \u001b[38;5;241m=\u001b[39m \u001b[43msales_data\u001b[49m\u001b[38;5;241m.\u001b[39mgroupby([\u001b[38;5;124m'\u001b[39m\u001b[38;5;124mYear\u001b[39m\u001b[38;5;124m'\u001b[39m])\u001b[38;5;241m.\u001b[39msum()\u001b[38;5;241m.\u001b[39mdrop(\u001b[38;5;124m'\u001b[39m\u001b[38;5;124mPostal Code\u001b[39m\u001b[38;5;124m'\u001b[39m,axis\u001b[38;5;241m=\u001b[39m\u001b[38;5;241m1\u001b[39m)\u001b[38;5;241m.\u001b[39mround(\u001b[38;5;241m2\u001b[39m)\n\u001b[1;32m      3\u001b[0m \u001b[38;5;28mprint\u001b[39m(\u001b[38;5;124m'\u001b[39m\u001b[38;5;130;01m\\033\u001b[39;00m\u001b[38;5;124m[1mTotal yearly sales :\u001b[39m\u001b[38;5;130;01m\\033\u001b[39;00m\u001b[38;5;124m[0m \u001b[39m\u001b[38;5;130;01m\\n\u001b[39;00m\u001b[38;5;124m'\u001b[39m)\n\u001b[1;32m      4\u001b[0m \u001b[38;5;28mprint\u001b[39m(\u001b[38;5;124mf\u001b[39m\u001b[38;5;124m'\u001b[39m\u001b[38;5;130;01m\\033\u001b[39;00m\u001b[38;5;124m[1m\u001b[39m\u001b[38;5;132;01m{\u001b[39;00myearly_trend\u001b[38;5;132;01m}\u001b[39;00m\u001b[38;5;130;01m\\033\u001b[39;00m\u001b[38;5;124m[0m \u001b[39m\u001b[38;5;130;01m\\n\u001b[39;00m\u001b[38;5;124m'\u001b[39m)\n",
            "\u001b[0;31mNameError\u001b[0m: name 'sales_data' is not defined"
          ],
          "output_type": "error"
        }
      ],
      "id": "6be8e47b"
    },
    {
      "cell_type": "markdown",
      "source": "> **Average Monthly Sales**",
      "metadata": {
        "papermill": {
          "duration": 0.025367,
          "end_time": "2022-08-15T18:47:51.883095",
          "exception": false,
          "start_time": "2022-08-15T18:47:51.857728",
          "status": "completed"
        },
        "tags": []
      },
      "id": "b33d0355"
    },
    {
      "cell_type": "code",
      "source": "avg_monthly_trend = sales_data.groupby(['Month_Year']).mean().drop('Postal Code',axis=1).round(2)\n\nprint('\\033[1mAverage monthly sales :\\033[0m \\n')\nprint(f'\\033[1m{avg_monthly_trend}\\033[0m \\n')\navg_monthly_trend.reset_index(inplace=True)\n\ncolr=np.arange(0,avg_monthly_trend.values.size)\nfig=go.Figure(data=[go.Scatter(x=avg_monthly_trend['Month_Year'] ,y=avg_monthly_trend['Sales'],mode='lines', marker=dict(\n                color=colr))],layout=go.Layout(title='Average Monthly Sales'))\nfig.update_traces(hoverinfo='x+y', textfont_size=10)               \nfig.update_layout(height=600,autosize=True ,plot_bgcolor='rgb(205, 275, 275)')",
      "metadata": {
        "_kg_hide-input": true,
        "papermill": {
          "duration": 0.061891,
          "end_time": "2022-08-15T18:47:51.970926",
          "exception": false,
          "start_time": "2022-08-15T18:47:51.909035",
          "status": "completed"
        },
        "tags": [],
        "trusted": true
      },
      "execution_count": 20,
      "outputs": [
        {
          "ename": "<class 'NameError'>",
          "evalue": "name 'sales_data' is not defined",
          "traceback": [
            "\u001b[0;31m---------------------------------------------------------------------------\u001b[0m",
            "\u001b[0;31mNameError\u001b[0m                                 Traceback (most recent call last)",
            "Cell \u001b[0;32mIn[20], line 1\u001b[0m\n\u001b[0;32m----> 1\u001b[0m avg_monthly_trend \u001b[38;5;241m=\u001b[39m \u001b[43msales_data\u001b[49m\u001b[38;5;241m.\u001b[39mgroupby([\u001b[38;5;124m'\u001b[39m\u001b[38;5;124mMonth_Year\u001b[39m\u001b[38;5;124m'\u001b[39m])\u001b[38;5;241m.\u001b[39mmean()\u001b[38;5;241m.\u001b[39mdrop(\u001b[38;5;124m'\u001b[39m\u001b[38;5;124mPostal Code\u001b[39m\u001b[38;5;124m'\u001b[39m,axis\u001b[38;5;241m=\u001b[39m\u001b[38;5;241m1\u001b[39m)\u001b[38;5;241m.\u001b[39mround(\u001b[38;5;241m2\u001b[39m)\n\u001b[1;32m      3\u001b[0m \u001b[38;5;28mprint\u001b[39m(\u001b[38;5;124m'\u001b[39m\u001b[38;5;130;01m\\033\u001b[39;00m\u001b[38;5;124m[1mAverage monthly sales :\u001b[39m\u001b[38;5;130;01m\\033\u001b[39;00m\u001b[38;5;124m[0m \u001b[39m\u001b[38;5;130;01m\\n\u001b[39;00m\u001b[38;5;124m'\u001b[39m)\n\u001b[1;32m      4\u001b[0m \u001b[38;5;28mprint\u001b[39m(\u001b[38;5;124mf\u001b[39m\u001b[38;5;124m'\u001b[39m\u001b[38;5;130;01m\\033\u001b[39;00m\u001b[38;5;124m[1m\u001b[39m\u001b[38;5;132;01m{\u001b[39;00mavg_monthly_trend\u001b[38;5;132;01m}\u001b[39;00m\u001b[38;5;130;01m\\033\u001b[39;00m\u001b[38;5;124m[0m \u001b[39m\u001b[38;5;130;01m\\n\u001b[39;00m\u001b[38;5;124m'\u001b[39m)\n",
            "\u001b[0;31mNameError\u001b[0m: name 'sales_data' is not defined"
          ],
          "output_type": "error"
        }
      ],
      "id": "90ddc76f"
    },
    {
      "cell_type": "markdown",
      "source": "> **Average Yealy Sales**",
      "metadata": {
        "papermill": {
          "duration": 0.030908,
          "end_time": "2022-08-15T18:47:52.034345",
          "exception": false,
          "start_time": "2022-08-15T18:47:52.003437",
          "status": "completed"
        },
        "tags": []
      },
      "id": "f483ed30"
    },
    {
      "cell_type": "code",
      "source": "avg_yearly_trend = sales_data.groupby(['Year']).mean().drop('Postal Code',axis=1).round(2)\n\nprint('\\033[1mAverage yearly sales :\\033[0m \\n')\nprint(f'\\033[1m{avg_yearly_trend}\\033[0m \\n')\navg_yearly_trend.reset_index(inplace=True)\n\ncolr=np.arange(0,avg_yearly_trend.values.size)\nfig=go.Figure(data=[go.Scatter(x=avg_yearly_trend['Year'] ,y=avg_yearly_trend['Sales'],mode='lines', marker=dict(\n                color=colr))],layout=go.Layout(title='Average Yealy Sales'))\nfig.update_traces(hoverinfo='x+y', textfont_size=10)               \nfig.update_layout(height=600,autosize=True ,plot_bgcolor='rgb(205, 275, 275)')",
      "metadata": {
        "_kg_hide-input": true,
        "papermill": {
          "duration": 0.065565,
          "end_time": "2022-08-15T18:47:52.131152",
          "exception": false,
          "start_time": "2022-08-15T18:47:52.065587",
          "status": "completed"
        },
        "tags": [],
        "trusted": true
      },
      "execution_count": 21,
      "outputs": [
        {
          "ename": "<class 'NameError'>",
          "evalue": "name 'sales_data' is not defined",
          "traceback": [
            "\u001b[0;31m---------------------------------------------------------------------------\u001b[0m",
            "\u001b[0;31mNameError\u001b[0m                                 Traceback (most recent call last)",
            "Cell \u001b[0;32mIn[21], line 1\u001b[0m\n\u001b[0;32m----> 1\u001b[0m avg_yearly_trend \u001b[38;5;241m=\u001b[39m \u001b[43msales_data\u001b[49m\u001b[38;5;241m.\u001b[39mgroupby([\u001b[38;5;124m'\u001b[39m\u001b[38;5;124mYear\u001b[39m\u001b[38;5;124m'\u001b[39m])\u001b[38;5;241m.\u001b[39mmean()\u001b[38;5;241m.\u001b[39mdrop(\u001b[38;5;124m'\u001b[39m\u001b[38;5;124mPostal Code\u001b[39m\u001b[38;5;124m'\u001b[39m,axis\u001b[38;5;241m=\u001b[39m\u001b[38;5;241m1\u001b[39m)\u001b[38;5;241m.\u001b[39mround(\u001b[38;5;241m2\u001b[39m)\n\u001b[1;32m      3\u001b[0m \u001b[38;5;28mprint\u001b[39m(\u001b[38;5;124m'\u001b[39m\u001b[38;5;130;01m\\033\u001b[39;00m\u001b[38;5;124m[1mAverage yearly sales :\u001b[39m\u001b[38;5;130;01m\\033\u001b[39;00m\u001b[38;5;124m[0m \u001b[39m\u001b[38;5;130;01m\\n\u001b[39;00m\u001b[38;5;124m'\u001b[39m)\n\u001b[1;32m      4\u001b[0m \u001b[38;5;28mprint\u001b[39m(\u001b[38;5;124mf\u001b[39m\u001b[38;5;124m'\u001b[39m\u001b[38;5;130;01m\\033\u001b[39;00m\u001b[38;5;124m[1m\u001b[39m\u001b[38;5;132;01m{\u001b[39;00mavg_yearly_trend\u001b[38;5;132;01m}\u001b[39;00m\u001b[38;5;130;01m\\033\u001b[39;00m\u001b[38;5;124m[0m \u001b[39m\u001b[38;5;130;01m\\n\u001b[39;00m\u001b[38;5;124m'\u001b[39m)\n",
            "\u001b[0;31mNameError\u001b[0m: name 'sales_data' is not defined"
          ],
          "output_type": "error"
        }
      ],
      "id": "fd068a2b"
    },
    {
      "cell_type": "markdown",
      "source": "# **Product Analysis**",
      "metadata": {
        "papermill": {
          "duration": 0.03701,
          "end_time": "2022-08-15T18:47:52.205299",
          "exception": false,
          "start_time": "2022-08-15T18:47:52.168289",
          "status": "completed"
        },
        "tags": []
      },
      "id": "25eeef8a"
    },
    {
      "cell_type": "code",
      "source": "top_products = sales_data.groupby(['Product Name']).sum().sort_values(by=\"Sales\", ascending=False).head(20).drop('Postal Code',axis=1).round(2)\n\nprint('\\033[1mTop 20 Products by sales :\\033[0m \\n')\nprint(f'\\033[1m{top_products}\\033[0m \\n')\n\ntop_products.reset_index(inplace=True)\ncolr=np.arange(0,top_products.size)\nfig=go.Figure(data=[go.Bar(y=top_products['Sales'],x=top_products['Product Name'], marker={'color':colr})], layout=go.Layout(title='Most Valuable Products by Sales',\n          xaxis=dict(title='Product Name'),\n          yaxis = dict(title='Sales made')))\nfig.data[0].marker.line.width = 2\nfig.data[0].marker.line.color = \"black\" \nfig.update_layout(height=600,autosize=True ,plot_bgcolor='rgb(205, 275, 275)')",
      "metadata": {
        "_kg_hide-input": true,
        "papermill": {
          "duration": 0.124851,
          "end_time": "2022-08-15T18:47:52.439530",
          "exception": false,
          "start_time": "2022-08-15T18:47:52.314679",
          "status": "completed"
        },
        "tags": [],
        "trusted": true
      },
      "execution_count": 22,
      "outputs": [
        {
          "ename": "<class 'NameError'>",
          "evalue": "name 'sales_data' is not defined",
          "traceback": [
            "\u001b[0;31m---------------------------------------------------------------------------\u001b[0m",
            "\u001b[0;31mNameError\u001b[0m                                 Traceback (most recent call last)",
            "Cell \u001b[0;32mIn[22], line 1\u001b[0m\n\u001b[0;32m----> 1\u001b[0m top_products \u001b[38;5;241m=\u001b[39m \u001b[43msales_data\u001b[49m\u001b[38;5;241m.\u001b[39mgroupby([\u001b[38;5;124m'\u001b[39m\u001b[38;5;124mProduct Name\u001b[39m\u001b[38;5;124m'\u001b[39m])\u001b[38;5;241m.\u001b[39msum()\u001b[38;5;241m.\u001b[39msort_values(by\u001b[38;5;241m=\u001b[39m\u001b[38;5;124m\"\u001b[39m\u001b[38;5;124mSales\u001b[39m\u001b[38;5;124m\"\u001b[39m, ascending\u001b[38;5;241m=\u001b[39m\u001b[38;5;28;01mFalse\u001b[39;00m)\u001b[38;5;241m.\u001b[39mhead(\u001b[38;5;241m20\u001b[39m)\u001b[38;5;241m.\u001b[39mdrop(\u001b[38;5;124m'\u001b[39m\u001b[38;5;124mPostal Code\u001b[39m\u001b[38;5;124m'\u001b[39m,axis\u001b[38;5;241m=\u001b[39m\u001b[38;5;241m1\u001b[39m)\u001b[38;5;241m.\u001b[39mround(\u001b[38;5;241m2\u001b[39m)\n\u001b[1;32m      3\u001b[0m \u001b[38;5;28mprint\u001b[39m(\u001b[38;5;124m'\u001b[39m\u001b[38;5;130;01m\\033\u001b[39;00m\u001b[38;5;124m[1mTop 20 Products by sales :\u001b[39m\u001b[38;5;130;01m\\033\u001b[39;00m\u001b[38;5;124m[0m \u001b[39m\u001b[38;5;130;01m\\n\u001b[39;00m\u001b[38;5;124m'\u001b[39m)\n\u001b[1;32m      4\u001b[0m \u001b[38;5;28mprint\u001b[39m(\u001b[38;5;124mf\u001b[39m\u001b[38;5;124m'\u001b[39m\u001b[38;5;130;01m\\033\u001b[39;00m\u001b[38;5;124m[1m\u001b[39m\u001b[38;5;132;01m{\u001b[39;00mtop_products\u001b[38;5;132;01m}\u001b[39;00m\u001b[38;5;130;01m\\033\u001b[39;00m\u001b[38;5;124m[0m \u001b[39m\u001b[38;5;130;01m\\n\u001b[39;00m\u001b[38;5;124m'\u001b[39m)\n",
            "\u001b[0;31mNameError\u001b[0m: name 'sales_data' is not defined"
          ],
          "output_type": "error"
        }
      ],
      "id": "9f5f9c9f"
    },
    {
      "cell_type": "code",
      "source": "most_sold_products = sales_data['Product Name'].value_counts().head(20)\n\nprint('\\033[1mTop 20 Products by quantity :\\033[0m \\n')\nprint(f'\\033[1m{most_sold_products}\\033[0m \\n')\n\n# most_sold_products.reset_index(inplace=True)\ncolr=np.arange(0,most_sold_products.size)\nfig=go.Figure(data=[go.Bar(y=most_sold_products.values,x=most_sold_products.index, marker={'color':colr})], layout=go.Layout(title='Most selling Products',\n          xaxis=dict(title='Product Name'),\n          yaxis = dict(title='Number items sold')))\nfig.data[0].marker.line.width = 2\nfig.data[0].marker.line.color = \"black\" \nfig.update_layout(height=600,autosize=True ,plot_bgcolor='rgb(205, 205, 275)')",
      "metadata": {
        "_kg_hide-input": true,
        "papermill": {
          "duration": 0.068873,
          "end_time": "2022-08-15T18:47:52.635007",
          "exception": false,
          "start_time": "2022-08-15T18:47:52.566134",
          "status": "completed"
        },
        "tags": [],
        "trusted": true
      },
      "execution_count": 23,
      "outputs": [
        {
          "ename": "<class 'NameError'>",
          "evalue": "name 'sales_data' is not defined",
          "traceback": [
            "\u001b[0;31m---------------------------------------------------------------------------\u001b[0m",
            "\u001b[0;31mNameError\u001b[0m                                 Traceback (most recent call last)",
            "Cell \u001b[0;32mIn[23], line 1\u001b[0m\n\u001b[0;32m----> 1\u001b[0m most_sold_products \u001b[38;5;241m=\u001b[39m \u001b[43msales_data\u001b[49m[\u001b[38;5;124m'\u001b[39m\u001b[38;5;124mProduct Name\u001b[39m\u001b[38;5;124m'\u001b[39m]\u001b[38;5;241m.\u001b[39mvalue_counts()\u001b[38;5;241m.\u001b[39mhead(\u001b[38;5;241m20\u001b[39m)\n\u001b[1;32m      3\u001b[0m \u001b[38;5;28mprint\u001b[39m(\u001b[38;5;124m'\u001b[39m\u001b[38;5;130;01m\\033\u001b[39;00m\u001b[38;5;124m[1mTop 20 Products by quantity :\u001b[39m\u001b[38;5;130;01m\\033\u001b[39;00m\u001b[38;5;124m[0m \u001b[39m\u001b[38;5;130;01m\\n\u001b[39;00m\u001b[38;5;124m'\u001b[39m)\n\u001b[1;32m      4\u001b[0m \u001b[38;5;28mprint\u001b[39m(\u001b[38;5;124mf\u001b[39m\u001b[38;5;124m'\u001b[39m\u001b[38;5;130;01m\\033\u001b[39;00m\u001b[38;5;124m[1m\u001b[39m\u001b[38;5;132;01m{\u001b[39;00mmost_sold_products\u001b[38;5;132;01m}\u001b[39;00m\u001b[38;5;130;01m\\033\u001b[39;00m\u001b[38;5;124m[0m \u001b[39m\u001b[38;5;130;01m\\n\u001b[39;00m\u001b[38;5;124m'\u001b[39m)\n",
            "\u001b[0;31mNameError\u001b[0m: name 'sales_data' is not defined"
          ],
          "output_type": "error"
        }
      ],
      "id": "01d8a752"
    },
    {
      "cell_type": "code",
      "source": "least_products = sales_data.groupby(['Product Name']).sum().sort_values(by=\"Sales\", ascending=False).tail(20).drop('Postal Code',axis=1).round(2)\n\nprint('\\033[1mLeast 20 Products by sales :\\033[0m \\n')\nprint(f'\\033[1m{least_products}\\033[0m \\n')\n\nleast_products.reset_index(inplace=True)\ncolr=np.arange(0,least_products.size)\nfig=go.Figure(data=[go.Bar(y=least_products['Sales'],x=least_products['Product Name'], marker={'color':colr})], layout=go.Layout(title='Least Valuable Products by Sales',\n          xaxis=dict(title='Product Name'),\n          yaxis = dict(title='Sales made')))\nfig.data[0].marker.line.width = 2\nfig.data[0].marker.line.color = \"black\" \nfig.update_layout(height=600,autosize=True ,plot_bgcolor='rgb(205, 205, 275)')",
      "metadata": {
        "_kg_hide-input": true,
        "papermill": {
          "duration": 0.086739,
          "end_time": "2022-08-15T18:47:52.863655",
          "exception": false,
          "start_time": "2022-08-15T18:47:52.776916",
          "status": "completed"
        },
        "tags": [],
        "trusted": true
      },
      "execution_count": 24,
      "outputs": [
        {
          "ename": "<class 'NameError'>",
          "evalue": "name 'sales_data' is not defined",
          "traceback": [
            "\u001b[0;31m---------------------------------------------------------------------------\u001b[0m",
            "\u001b[0;31mNameError\u001b[0m                                 Traceback (most recent call last)",
            "Cell \u001b[0;32mIn[24], line 1\u001b[0m\n\u001b[0;32m----> 1\u001b[0m least_products \u001b[38;5;241m=\u001b[39m \u001b[43msales_data\u001b[49m\u001b[38;5;241m.\u001b[39mgroupby([\u001b[38;5;124m'\u001b[39m\u001b[38;5;124mProduct Name\u001b[39m\u001b[38;5;124m'\u001b[39m])\u001b[38;5;241m.\u001b[39msum()\u001b[38;5;241m.\u001b[39msort_values(by\u001b[38;5;241m=\u001b[39m\u001b[38;5;124m\"\u001b[39m\u001b[38;5;124mSales\u001b[39m\u001b[38;5;124m\"\u001b[39m, ascending\u001b[38;5;241m=\u001b[39m\u001b[38;5;28;01mFalse\u001b[39;00m)\u001b[38;5;241m.\u001b[39mtail(\u001b[38;5;241m20\u001b[39m)\u001b[38;5;241m.\u001b[39mdrop(\u001b[38;5;124m'\u001b[39m\u001b[38;5;124mPostal Code\u001b[39m\u001b[38;5;124m'\u001b[39m,axis\u001b[38;5;241m=\u001b[39m\u001b[38;5;241m1\u001b[39m)\u001b[38;5;241m.\u001b[39mround(\u001b[38;5;241m2\u001b[39m)\n\u001b[1;32m      3\u001b[0m \u001b[38;5;28mprint\u001b[39m(\u001b[38;5;124m'\u001b[39m\u001b[38;5;130;01m\\033\u001b[39;00m\u001b[38;5;124m[1mLeast 20 Products by sales :\u001b[39m\u001b[38;5;130;01m\\033\u001b[39;00m\u001b[38;5;124m[0m \u001b[39m\u001b[38;5;130;01m\\n\u001b[39;00m\u001b[38;5;124m'\u001b[39m)\n\u001b[1;32m      4\u001b[0m \u001b[38;5;28mprint\u001b[39m(\u001b[38;5;124mf\u001b[39m\u001b[38;5;124m'\u001b[39m\u001b[38;5;130;01m\\033\u001b[39;00m\u001b[38;5;124m[1m\u001b[39m\u001b[38;5;132;01m{\u001b[39;00mleast_products\u001b[38;5;132;01m}\u001b[39;00m\u001b[38;5;130;01m\\033\u001b[39;00m\u001b[38;5;124m[0m \u001b[39m\u001b[38;5;130;01m\\n\u001b[39;00m\u001b[38;5;124m'\u001b[39m)\n",
            "\u001b[0;31mNameError\u001b[0m: name 'sales_data' is not defined"
          ],
          "output_type": "error"
        }
      ],
      "id": "dfc6d944"
    },
    {
      "cell_type": "code",
      "source": "least_sold_products = sales_data['Product Name'].value_counts().tail(20)\n\nprint('\\033[1mLeast 20 Products by quantity :\\033[0m \\n')\nprint(f'\\033[1m{least_sold_products}\\033[0m \\n')\n\ncolr=np.arange(0,least_sold_products.size)\nfig=go.Figure(data=[go.Bar(y=least_sold_products.values,x=least_sold_products.index, marker={'color':colr})], layout=go.Layout(title='Least selling Products',\n          xaxis=dict(title='Product Name'),\n          yaxis = dict(title='Number items sold')))\nfig.data[0].marker.line.width = 2\nfig.data[0].marker.line.color = \"black\" \nfig.update_layout(height=600,autosize=True ,plot_bgcolor='rgb(205, 205, 275)')",
      "metadata": {
        "_kg_hide-input": true,
        "papermill": {
          "duration": 0.08112,
          "end_time": "2022-08-15T18:47:53.102890",
          "exception": false,
          "start_time": "2022-08-15T18:47:53.021770",
          "status": "completed"
        },
        "tags": [],
        "trusted": true
      },
      "execution_count": 25,
      "outputs": [
        {
          "ename": "<class 'NameError'>",
          "evalue": "name 'sales_data' is not defined",
          "traceback": [
            "\u001b[0;31m---------------------------------------------------------------------------\u001b[0m",
            "\u001b[0;31mNameError\u001b[0m                                 Traceback (most recent call last)",
            "Cell \u001b[0;32mIn[25], line 1\u001b[0m\n\u001b[0;32m----> 1\u001b[0m least_sold_products \u001b[38;5;241m=\u001b[39m \u001b[43msales_data\u001b[49m[\u001b[38;5;124m'\u001b[39m\u001b[38;5;124mProduct Name\u001b[39m\u001b[38;5;124m'\u001b[39m]\u001b[38;5;241m.\u001b[39mvalue_counts()\u001b[38;5;241m.\u001b[39mtail(\u001b[38;5;241m20\u001b[39m)\n\u001b[1;32m      3\u001b[0m \u001b[38;5;28mprint\u001b[39m(\u001b[38;5;124m'\u001b[39m\u001b[38;5;130;01m\\033\u001b[39;00m\u001b[38;5;124m[1mLeast 20 Products by quantity :\u001b[39m\u001b[38;5;130;01m\\033\u001b[39;00m\u001b[38;5;124m[0m \u001b[39m\u001b[38;5;130;01m\\n\u001b[39;00m\u001b[38;5;124m'\u001b[39m)\n\u001b[1;32m      4\u001b[0m \u001b[38;5;28mprint\u001b[39m(\u001b[38;5;124mf\u001b[39m\u001b[38;5;124m'\u001b[39m\u001b[38;5;130;01m\\033\u001b[39;00m\u001b[38;5;124m[1m\u001b[39m\u001b[38;5;132;01m{\u001b[39;00mleast_sold_products\u001b[38;5;132;01m}\u001b[39;00m\u001b[38;5;130;01m\\033\u001b[39;00m\u001b[38;5;124m[0m \u001b[39m\u001b[38;5;130;01m\\n\u001b[39;00m\u001b[38;5;124m'\u001b[39m)\n",
            "\u001b[0;31mNameError\u001b[0m: name 'sales_data' is not defined"
          ],
          "output_type": "error"
        }
      ],
      "id": "f0bdfa3b"
    },
    {
      "cell_type": "markdown",
      "source": "# **Customers Analysis**",
      "metadata": {
        "papermill": {
          "duration": 0.057939,
          "end_time": "2022-08-15T18:47:53.219123",
          "exception": false,
          "start_time": "2022-08-15T18:47:53.161184",
          "status": "completed"
        },
        "tags": []
      },
      "id": "0a27d778"
    },
    {
      "cell_type": "code",
      "source": "top_customers = sales_data.groupby(['Customer Name']).sum().sort_values(by='Sales', ascending=False).head(20).drop('Postal Code',axis=1).round(2)\n\nprint('\\033[1mTop 20 Customers :\\033[0m \\n')\nprint(f'\\033[1m{top_customers}\\033[0m \\n')\n\ntop_customers.reset_index(inplace=True)\ncolr=np.arange(0,top_customers.size)\nfig=go.Figure(data=[go.Bar(y=top_customers['Sales'],x=top_customers['Customer Name'], marker={'color':colr})], layout=go.Layout(title='Most Valuable Customers',\n          xaxis=dict(title='Customers'),\n          yaxis = dict(title='Sales made')))\nfig.data[0].marker.line.width = 2\nfig.data[0].marker.line.color = \"black\" \nfig.update_layout(height=600,autosize=True ,plot_bgcolor='rgb(205, 205, 275)')",
      "metadata": {
        "_kg_hide-input": true,
        "papermill": {
          "duration": 0.0949,
          "end_time": "2022-08-15T18:47:53.486200",
          "exception": false,
          "start_time": "2022-08-15T18:47:53.391300",
          "status": "completed"
        },
        "tags": [],
        "trusted": true
      },
      "execution_count": 26,
      "outputs": [
        {
          "ename": "<class 'NameError'>",
          "evalue": "name 'sales_data' is not defined",
          "traceback": [
            "\u001b[0;31m---------------------------------------------------------------------------\u001b[0m",
            "\u001b[0;31mNameError\u001b[0m                                 Traceback (most recent call last)",
            "Cell \u001b[0;32mIn[26], line 1\u001b[0m\n\u001b[0;32m----> 1\u001b[0m top_customers \u001b[38;5;241m=\u001b[39m \u001b[43msales_data\u001b[49m\u001b[38;5;241m.\u001b[39mgroupby([\u001b[38;5;124m'\u001b[39m\u001b[38;5;124mCustomer Name\u001b[39m\u001b[38;5;124m'\u001b[39m])\u001b[38;5;241m.\u001b[39msum()\u001b[38;5;241m.\u001b[39msort_values(by\u001b[38;5;241m=\u001b[39m\u001b[38;5;124m'\u001b[39m\u001b[38;5;124mSales\u001b[39m\u001b[38;5;124m'\u001b[39m, ascending\u001b[38;5;241m=\u001b[39m\u001b[38;5;28;01mFalse\u001b[39;00m)\u001b[38;5;241m.\u001b[39mhead(\u001b[38;5;241m20\u001b[39m)\u001b[38;5;241m.\u001b[39mdrop(\u001b[38;5;124m'\u001b[39m\u001b[38;5;124mPostal Code\u001b[39m\u001b[38;5;124m'\u001b[39m,axis\u001b[38;5;241m=\u001b[39m\u001b[38;5;241m1\u001b[39m)\u001b[38;5;241m.\u001b[39mround(\u001b[38;5;241m2\u001b[39m)\n\u001b[1;32m      3\u001b[0m \u001b[38;5;28mprint\u001b[39m(\u001b[38;5;124m'\u001b[39m\u001b[38;5;130;01m\\033\u001b[39;00m\u001b[38;5;124m[1mTop 20 Customers :\u001b[39m\u001b[38;5;130;01m\\033\u001b[39;00m\u001b[38;5;124m[0m \u001b[39m\u001b[38;5;130;01m\\n\u001b[39;00m\u001b[38;5;124m'\u001b[39m)\n\u001b[1;32m      4\u001b[0m \u001b[38;5;28mprint\u001b[39m(\u001b[38;5;124mf\u001b[39m\u001b[38;5;124m'\u001b[39m\u001b[38;5;130;01m\\033\u001b[39;00m\u001b[38;5;124m[1m\u001b[39m\u001b[38;5;132;01m{\u001b[39;00mtop_customers\u001b[38;5;132;01m}\u001b[39;00m\u001b[38;5;130;01m\\033\u001b[39;00m\u001b[38;5;124m[0m \u001b[39m\u001b[38;5;130;01m\\n\u001b[39;00m\u001b[38;5;124m'\u001b[39m)\n",
            "\u001b[0;31mNameError\u001b[0m: name 'sales_data' is not defined"
          ],
          "output_type": "error"
        }
      ],
      "id": "f725d436"
    },
    {
      "cell_type": "code",
      "source": "least_customers = sales_data.groupby(['Customer Name']).sum().sort_values(by='Sales', ascending=False).tail(20).drop('Postal Code',axis=1).round(2)\n\nprint('\\033[1m20 Customers with Least Revenue :\\033[0m \\n')\nprint(f'\\033[1m{least_customers}\\033[0m \\n')\n\nleast_customers.reset_index(inplace=True)\ncolr=np.arange(0,least_customers.size)\nfig=go.Figure(data=[go.Bar(y=least_customers['Sales'],x=least_customers['Customer Name'], marker={'color':colr})], layout=go.Layout(title='Least Revenue generated by Customers',\n          xaxis=dict(title='Customers'),\n          yaxis = dict(title='Sales made')))\nfig.data[0].marker.line.width = 2\nfig.data[0].marker.line.color = \"black\" \nfig.update_layout(height=600,autosize=True ,plot_bgcolor='rgb(205, 205, 275)')",
      "metadata": {
        "_kg_hide-input": true,
        "papermill": {
          "duration": 0.099247,
          "end_time": "2022-08-15T18:47:53.775290",
          "exception": false,
          "start_time": "2022-08-15T18:47:53.676043",
          "status": "completed"
        },
        "tags": [],
        "trusted": true
      },
      "execution_count": 27,
      "outputs": [
        {
          "ename": "<class 'NameError'>",
          "evalue": "name 'sales_data' is not defined",
          "traceback": [
            "\u001b[0;31m---------------------------------------------------------------------------\u001b[0m",
            "\u001b[0;31mNameError\u001b[0m                                 Traceback (most recent call last)",
            "Cell \u001b[0;32mIn[27], line 1\u001b[0m\n\u001b[0;32m----> 1\u001b[0m least_customers \u001b[38;5;241m=\u001b[39m \u001b[43msales_data\u001b[49m\u001b[38;5;241m.\u001b[39mgroupby([\u001b[38;5;124m'\u001b[39m\u001b[38;5;124mCustomer Name\u001b[39m\u001b[38;5;124m'\u001b[39m])\u001b[38;5;241m.\u001b[39msum()\u001b[38;5;241m.\u001b[39msort_values(by\u001b[38;5;241m=\u001b[39m\u001b[38;5;124m'\u001b[39m\u001b[38;5;124mSales\u001b[39m\u001b[38;5;124m'\u001b[39m, ascending\u001b[38;5;241m=\u001b[39m\u001b[38;5;28;01mFalse\u001b[39;00m)\u001b[38;5;241m.\u001b[39mtail(\u001b[38;5;241m20\u001b[39m)\u001b[38;5;241m.\u001b[39mdrop(\u001b[38;5;124m'\u001b[39m\u001b[38;5;124mPostal Code\u001b[39m\u001b[38;5;124m'\u001b[39m,axis\u001b[38;5;241m=\u001b[39m\u001b[38;5;241m1\u001b[39m)\u001b[38;5;241m.\u001b[39mround(\u001b[38;5;241m2\u001b[39m)\n\u001b[1;32m      3\u001b[0m \u001b[38;5;28mprint\u001b[39m(\u001b[38;5;124m'\u001b[39m\u001b[38;5;130;01m\\033\u001b[39;00m\u001b[38;5;124m[1m20 Customers with Least Revenue :\u001b[39m\u001b[38;5;130;01m\\033\u001b[39;00m\u001b[38;5;124m[0m \u001b[39m\u001b[38;5;130;01m\\n\u001b[39;00m\u001b[38;5;124m'\u001b[39m)\n\u001b[1;32m      4\u001b[0m \u001b[38;5;28mprint\u001b[39m(\u001b[38;5;124mf\u001b[39m\u001b[38;5;124m'\u001b[39m\u001b[38;5;130;01m\\033\u001b[39;00m\u001b[38;5;124m[1m\u001b[39m\u001b[38;5;132;01m{\u001b[39;00mleast_customers\u001b[38;5;132;01m}\u001b[39;00m\u001b[38;5;130;01m\\033\u001b[39;00m\u001b[38;5;124m[0m \u001b[39m\u001b[38;5;130;01m\\n\u001b[39;00m\u001b[38;5;124m'\u001b[39m)\n",
            "\u001b[0;31mNameError\u001b[0m: name 'sales_data' is not defined"
          ],
          "output_type": "error"
        }
      ],
      "id": "0e35c843"
    },
    {
      "cell_type": "markdown",
      "source": "# **Shipping Mode Analysis**",
      "metadata": {
        "papermill": {
          "duration": 0.133049,
          "end_time": "2022-08-15T18:47:53.977644",
          "exception": false,
          "start_time": "2022-08-15T18:47:53.844595",
          "status": "completed"
        },
        "tags": []
      },
      "id": "9cae5977"
    },
    {
      "cell_type": "code",
      "source": "ship_modes = sales_data['Ship Mode'].value_counts()\n\nprint('\\033[1mMost used Shipping Modes :\\033[0m \\n')\nprint(f'\\033[1m{ship_modes}\\033[0m \\n')\n\ncolr=np.arange(0,ship_modes.size)\n\nfig=go.Figure(data=[go.Pie(labels=ship_modes.index,values=ship_modes.values)],layout=go.Layout(title='Most used Shipping Modes'))\nfig.update_traces(hoverinfo='label+percent+value', textinfo='label+percent', textfont_size=10,marker=dict(colors=colr))\nfig.data[0].marker.line.width = 2\nfig.data[0].marker.line.color = \"black\"                \nfig.update_layout(height=600,autosize=True ,plot_bgcolor='rgb(205, 205, 275)')",
      "metadata": {
        "_kg_hide-input": true,
        "papermill": {
          "duration": 0.126098,
          "end_time": "2022-08-15T18:47:54.309347",
          "exception": false,
          "start_time": "2022-08-15T18:47:54.183249",
          "status": "completed"
        },
        "tags": [],
        "trusted": true
      },
      "execution_count": 28,
      "outputs": [
        {
          "ename": "<class 'NameError'>",
          "evalue": "name 'sales_data' is not defined",
          "traceback": [
            "\u001b[0;31m---------------------------------------------------------------------------\u001b[0m",
            "\u001b[0;31mNameError\u001b[0m                                 Traceback (most recent call last)",
            "Cell \u001b[0;32mIn[28], line 1\u001b[0m\n\u001b[0;32m----> 1\u001b[0m ship_modes \u001b[38;5;241m=\u001b[39m \u001b[43msales_data\u001b[49m[\u001b[38;5;124m'\u001b[39m\u001b[38;5;124mShip Mode\u001b[39m\u001b[38;5;124m'\u001b[39m]\u001b[38;5;241m.\u001b[39mvalue_counts()\n\u001b[1;32m      3\u001b[0m \u001b[38;5;28mprint\u001b[39m(\u001b[38;5;124m'\u001b[39m\u001b[38;5;130;01m\\033\u001b[39;00m\u001b[38;5;124m[1mMost used Shipping Modes :\u001b[39m\u001b[38;5;130;01m\\033\u001b[39;00m\u001b[38;5;124m[0m \u001b[39m\u001b[38;5;130;01m\\n\u001b[39;00m\u001b[38;5;124m'\u001b[39m)\n\u001b[1;32m      4\u001b[0m \u001b[38;5;28mprint\u001b[39m(\u001b[38;5;124mf\u001b[39m\u001b[38;5;124m'\u001b[39m\u001b[38;5;130;01m\\033\u001b[39;00m\u001b[38;5;124m[1m\u001b[39m\u001b[38;5;132;01m{\u001b[39;00mship_modes\u001b[38;5;132;01m}\u001b[39;00m\u001b[38;5;130;01m\\033\u001b[39;00m\u001b[38;5;124m[0m \u001b[39m\u001b[38;5;130;01m\\n\u001b[39;00m\u001b[38;5;124m'\u001b[39m)\n",
            "\u001b[0;31mNameError\u001b[0m: name 'sales_data' is not defined"
          ],
          "output_type": "error"
        }
      ],
      "id": "012ebd1c"
    },
    {
      "cell_type": "code",
      "source": "ship_modes_sales = sales_data.groupby(['Ship Mode']).sum().drop('Postal Code',axis=1).round(2)\n\nprint('\\033[1mRevenue generated by Shipping Modes :\\033[0m \\n')\nprint(f'\\033[1m{ship_modes_sales}\\033[0m \\n')\nship_modes_sales.reset_index(inplace=True)\n\ncolr=np.arange(0,ship_modes_sales.values.size)\nfig=go.Figure(data=[go.Pie(labels=ship_modes_sales['Ship Mode'],values=ship_modes_sales['Sales'])],layout=go.Layout(title='Revenue generated by Shipping Modes'))\nfig.update_traces(hoverinfo='label+percent', textinfo='label+value', textfont_size=10,marker=dict(colors=colr))\nfig.data[0].marker.line.width = 2\nfig.data[0].marker.line.color = \"black\"                \nfig.update_layout(height=600,autosize=True ,plot_bgcolor='rgb(275, 275, 275)')",
      "metadata": {
        "papermill": {
          "duration": 0.107527,
          "end_time": "2022-08-15T18:47:54.637195",
          "exception": false,
          "start_time": "2022-08-15T18:47:54.529668",
          "status": "completed"
        },
        "tags": [],
        "trusted": true
      },
      "execution_count": 29,
      "outputs": [
        {
          "ename": "<class 'NameError'>",
          "evalue": "name 'sales_data' is not defined",
          "traceback": [
            "\u001b[0;31m---------------------------------------------------------------------------\u001b[0m",
            "\u001b[0;31mNameError\u001b[0m                                 Traceback (most recent call last)",
            "Cell \u001b[0;32mIn[29], line 1\u001b[0m\n\u001b[0;32m----> 1\u001b[0m ship_modes_sales \u001b[38;5;241m=\u001b[39m \u001b[43msales_data\u001b[49m\u001b[38;5;241m.\u001b[39mgroupby([\u001b[38;5;124m'\u001b[39m\u001b[38;5;124mShip Mode\u001b[39m\u001b[38;5;124m'\u001b[39m])\u001b[38;5;241m.\u001b[39msum()\u001b[38;5;241m.\u001b[39mdrop(\u001b[38;5;124m'\u001b[39m\u001b[38;5;124mPostal Code\u001b[39m\u001b[38;5;124m'\u001b[39m,axis\u001b[38;5;241m=\u001b[39m\u001b[38;5;241m1\u001b[39m)\u001b[38;5;241m.\u001b[39mround(\u001b[38;5;241m2\u001b[39m)\n\u001b[1;32m      3\u001b[0m \u001b[38;5;28mprint\u001b[39m(\u001b[38;5;124m'\u001b[39m\u001b[38;5;130;01m\\033\u001b[39;00m\u001b[38;5;124m[1mRevenue generated by Shipping Modes :\u001b[39m\u001b[38;5;130;01m\\033\u001b[39;00m\u001b[38;5;124m[0m \u001b[39m\u001b[38;5;130;01m\\n\u001b[39;00m\u001b[38;5;124m'\u001b[39m)\n\u001b[1;32m      4\u001b[0m \u001b[38;5;28mprint\u001b[39m(\u001b[38;5;124mf\u001b[39m\u001b[38;5;124m'\u001b[39m\u001b[38;5;130;01m\\033\u001b[39;00m\u001b[38;5;124m[1m\u001b[39m\u001b[38;5;132;01m{\u001b[39;00mship_modes_sales\u001b[38;5;132;01m}\u001b[39;00m\u001b[38;5;130;01m\\033\u001b[39;00m\u001b[38;5;124m[0m \u001b[39m\u001b[38;5;130;01m\\n\u001b[39;00m\u001b[38;5;124m'\u001b[39m)\n",
            "\u001b[0;31mNameError\u001b[0m: name 'sales_data' is not defined"
          ],
          "output_type": "error"
        }
      ],
      "id": "b8304c75"
    },
    {
      "cell_type": "markdown",
      "source": "# **Sales Category and Sub-Category Analysis**",
      "metadata": {
        "papermill": {
          "duration": 0.079126,
          "end_time": "2022-08-15T18:47:54.797696",
          "exception": false,
          "start_time": "2022-08-15T18:47:54.718570",
          "status": "completed"
        },
        "tags": []
      },
      "id": "bcd995b8"
    },
    {
      "cell_type": "code",
      "source": "catagory = sales_data.groupby(['Category','Sub-Category']).sum().drop('Postal Code',axis=1).round(2)\n\nprint('\\033[1mSales made by Category and Sub-Category :\\033[0m \\n')\nprint(f'\\033[1m{catagory}\\033[0m \\n')\n\nsub_cat1 = catagory.loc['Furniture'].reset_index()\nsub_cat2 = catagory.loc['Office Supplies'].reset_index()\nsub_cat3 = catagory.loc['Technology'].reset_index()\n\ncat = sales_data['Category'].unique()\n\nfig = make_subplots(rows=2, cols=2)\n\nfig.add_trace(\n    go.Bar(x=sub_cat1['Sub-Category'], y=sub_cat1['Sales'],marker={'color':np.arange(0,sub_cat1['Sub-Category'].size)},name=cat[0]),\n    row=1, col=1\n)\n\nfig.add_trace(\n    go.Bar(x=sub_cat2['Sub-Category'], y=sub_cat2['Sales'],marker={'color':np.arange(0,sub_cat2['Sub-Category'].size)},name=cat[1]),\n    row=1, col=2\n)\n\nfig.add_trace(\n    go.Bar(x=sub_cat3['Sub-Category'], y=sub_cat2['Sales'],marker={'color':np.arange(0,sub_cat3['Sub-Category'].size)},name=cat[2]),\n    row=2, col=1\n)\n\nfig.update_xaxes(title_text=f\"Category : {cat[0]}\", row=1, col=1)\nfig.update_xaxes(title_text=f\"Category : {cat[1]}\", row=1, col=2)\nfig.update_xaxes(title_text=f\"Category : {cat[2]}\", row=2, col=1)\n\nfig.update_yaxes(title_text=\"Sales Amount\", row=1, col=1)\nfig.update_yaxes(title_text=\"Sales Amount\", row=1, col=2)\nfig.update_yaxes(title_text=\"Sales Amount\", row=2, col=1)\n\nfig.update_layout(height=700, width=900, title_text=\"Sales Analysis of different Categories\")",
      "metadata": {
        "_kg_hide-input": true,
        "papermill": {
          "duration": 0.289942,
          "end_time": "2022-08-15T18:47:55.166824",
          "exception": false,
          "start_time": "2022-08-15T18:47:54.876882",
          "status": "completed"
        },
        "tags": [],
        "trusted": true
      },
      "execution_count": 30,
      "outputs": [
        {
          "ename": "<class 'NameError'>",
          "evalue": "name 'sales_data' is not defined",
          "traceback": [
            "\u001b[0;31m---------------------------------------------------------------------------\u001b[0m",
            "\u001b[0;31mNameError\u001b[0m                                 Traceback (most recent call last)",
            "Cell \u001b[0;32mIn[30], line 1\u001b[0m\n\u001b[0;32m----> 1\u001b[0m catagory \u001b[38;5;241m=\u001b[39m \u001b[43msales_data\u001b[49m\u001b[38;5;241m.\u001b[39mgroupby([\u001b[38;5;124m'\u001b[39m\u001b[38;5;124mCategory\u001b[39m\u001b[38;5;124m'\u001b[39m,\u001b[38;5;124m'\u001b[39m\u001b[38;5;124mSub-Category\u001b[39m\u001b[38;5;124m'\u001b[39m])\u001b[38;5;241m.\u001b[39msum()\u001b[38;5;241m.\u001b[39mdrop(\u001b[38;5;124m'\u001b[39m\u001b[38;5;124mPostal Code\u001b[39m\u001b[38;5;124m'\u001b[39m,axis\u001b[38;5;241m=\u001b[39m\u001b[38;5;241m1\u001b[39m)\u001b[38;5;241m.\u001b[39mround(\u001b[38;5;241m2\u001b[39m)\n\u001b[1;32m      3\u001b[0m \u001b[38;5;28mprint\u001b[39m(\u001b[38;5;124m'\u001b[39m\u001b[38;5;130;01m\\033\u001b[39;00m\u001b[38;5;124m[1mSales made by Category and Sub-Category :\u001b[39m\u001b[38;5;130;01m\\033\u001b[39;00m\u001b[38;5;124m[0m \u001b[39m\u001b[38;5;130;01m\\n\u001b[39;00m\u001b[38;5;124m'\u001b[39m)\n\u001b[1;32m      4\u001b[0m \u001b[38;5;28mprint\u001b[39m(\u001b[38;5;124mf\u001b[39m\u001b[38;5;124m'\u001b[39m\u001b[38;5;130;01m\\033\u001b[39;00m\u001b[38;5;124m[1m\u001b[39m\u001b[38;5;132;01m{\u001b[39;00mcatagory\u001b[38;5;132;01m}\u001b[39;00m\u001b[38;5;130;01m\\033\u001b[39;00m\u001b[38;5;124m[0m \u001b[39m\u001b[38;5;130;01m\\n\u001b[39;00m\u001b[38;5;124m'\u001b[39m)\n",
            "\u001b[0;31mNameError\u001b[0m: name 'sales_data' is not defined"
          ],
          "output_type": "error"
        }
      ],
      "id": "5a6c7f32"
    },
    {
      "cell_type": "markdown",
      "source": "# **Geoanalytics**",
      "metadata": {
        "papermill": {
          "duration": 0.084319,
          "end_time": "2022-08-15T18:47:55.336771",
          "exception": false,
          "start_time": "2022-08-15T18:47:55.252452",
          "status": "completed"
        },
        "tags": []
      },
      "id": "8af86429"
    },
    {
      "cell_type": "code",
      "source": "top_states = sales_data.groupby(['State']).sum().sort_values(by='Sales', ascending=False).head(20).drop('Postal Code',axis=1).round(2)\n\nprint('\\033[1mTop 20 States with Highest revenue :\\033[0m \\n')\nprint(f'\\033[1m{top_states}\\033[0m \\n')\ntop_states.reset_index(inplace=True)\n\ncolr=np.arange(0,top_states.values.size)\nfig=go.Figure(data=[go.Bar(y=top_states['Sales'],x=top_states['State'], marker={'color':colr})], layout=go.Layout(title='States with Highest Revenue',\n          xaxis=dict(title='States'),\n          yaxis = dict(title='Revenue')))\nfig.data[0].marker.line.width = 2\nfig.data[0].marker.line.color = \"black\" \nfig.update_layout(height=600,autosize=True ,plot_bgcolor='rgb(205, 205, 275)')",
      "metadata": {
        "_kg_hide-input": true,
        "papermill": {
          "duration": 0.119398,
          "end_time": "2022-08-15T18:47:55.709499",
          "exception": false,
          "start_time": "2022-08-15T18:47:55.590101",
          "status": "completed"
        },
        "tags": [],
        "trusted": true
      },
      "execution_count": 31,
      "outputs": [
        {
          "ename": "<class 'NameError'>",
          "evalue": "name 'sales_data' is not defined",
          "traceback": [
            "\u001b[0;31m---------------------------------------------------------------------------\u001b[0m",
            "\u001b[0;31mNameError\u001b[0m                                 Traceback (most recent call last)",
            "Cell \u001b[0;32mIn[31], line 1\u001b[0m\n\u001b[0;32m----> 1\u001b[0m top_states \u001b[38;5;241m=\u001b[39m \u001b[43msales_data\u001b[49m\u001b[38;5;241m.\u001b[39mgroupby([\u001b[38;5;124m'\u001b[39m\u001b[38;5;124mState\u001b[39m\u001b[38;5;124m'\u001b[39m])\u001b[38;5;241m.\u001b[39msum()\u001b[38;5;241m.\u001b[39msort_values(by\u001b[38;5;241m=\u001b[39m\u001b[38;5;124m'\u001b[39m\u001b[38;5;124mSales\u001b[39m\u001b[38;5;124m'\u001b[39m, ascending\u001b[38;5;241m=\u001b[39m\u001b[38;5;28;01mFalse\u001b[39;00m)\u001b[38;5;241m.\u001b[39mhead(\u001b[38;5;241m20\u001b[39m)\u001b[38;5;241m.\u001b[39mdrop(\u001b[38;5;124m'\u001b[39m\u001b[38;5;124mPostal Code\u001b[39m\u001b[38;5;124m'\u001b[39m,axis\u001b[38;5;241m=\u001b[39m\u001b[38;5;241m1\u001b[39m)\u001b[38;5;241m.\u001b[39mround(\u001b[38;5;241m2\u001b[39m)\n\u001b[1;32m      3\u001b[0m \u001b[38;5;28mprint\u001b[39m(\u001b[38;5;124m'\u001b[39m\u001b[38;5;130;01m\\033\u001b[39;00m\u001b[38;5;124m[1mTop 20 States with Highest revenue :\u001b[39m\u001b[38;5;130;01m\\033\u001b[39;00m\u001b[38;5;124m[0m \u001b[39m\u001b[38;5;130;01m\\n\u001b[39;00m\u001b[38;5;124m'\u001b[39m)\n\u001b[1;32m      4\u001b[0m \u001b[38;5;28mprint\u001b[39m(\u001b[38;5;124mf\u001b[39m\u001b[38;5;124m'\u001b[39m\u001b[38;5;130;01m\\033\u001b[39;00m\u001b[38;5;124m[1m\u001b[39m\u001b[38;5;132;01m{\u001b[39;00mtop_states\u001b[38;5;132;01m}\u001b[39;00m\u001b[38;5;130;01m\\033\u001b[39;00m\u001b[38;5;124m[0m \u001b[39m\u001b[38;5;130;01m\\n\u001b[39;00m\u001b[38;5;124m'\u001b[39m)\n",
            "\u001b[0;31mNameError\u001b[0m: name 'sales_data' is not defined"
          ],
          "output_type": "error"
        }
      ],
      "id": "d8243753"
    },
    {
      "cell_type": "code",
      "source": "top_cities = sales_data.groupby(['City']).sum().sort_values(by='Sales', ascending=False).head(20).drop('Postal Code',axis=1).round(2)\n\nprint('\\033[1mTop 20 Cities with Highest revenue :\\033[0m \\n')\nprint(f'\\033[1m{top_cities}\\033[0m \\n')\ntop_cities.reset_index(inplace=True)\n\ncolr=np.arange(0,top_cities.values.size)\nfig=go.Figure(data=[go.Bar(y=top_cities['Sales'],x=top_cities['City'], marker={'color':colr})], layout=go.Layout(title='Cities with Highest Revenue',\n          xaxis=dict(title='Cities'),\n          yaxis = dict(title='Revenue')))\nfig.data[0].marker.line.width = 2\nfig.data[0].marker.line.color = \"black\" \nfig.update_layout(height=600,autosize=True ,plot_bgcolor='rgb(275, 275, 275)')",
      "metadata": {
        "_kg_hide-input": true,
        "papermill": {
          "duration": 0.127958,
          "end_time": "2022-08-15T18:47:56.160374",
          "exception": false,
          "start_time": "2022-08-15T18:47:56.032416",
          "status": "completed"
        },
        "tags": [],
        "trusted": true
      },
      "execution_count": 32,
      "outputs": [
        {
          "ename": "<class 'NameError'>",
          "evalue": "name 'sales_data' is not defined",
          "traceback": [
            "\u001b[0;31m---------------------------------------------------------------------------\u001b[0m",
            "\u001b[0;31mNameError\u001b[0m                                 Traceback (most recent call last)",
            "Cell \u001b[0;32mIn[32], line 1\u001b[0m\n\u001b[0;32m----> 1\u001b[0m top_cities \u001b[38;5;241m=\u001b[39m \u001b[43msales_data\u001b[49m\u001b[38;5;241m.\u001b[39mgroupby([\u001b[38;5;124m'\u001b[39m\u001b[38;5;124mCity\u001b[39m\u001b[38;5;124m'\u001b[39m])\u001b[38;5;241m.\u001b[39msum()\u001b[38;5;241m.\u001b[39msort_values(by\u001b[38;5;241m=\u001b[39m\u001b[38;5;124m'\u001b[39m\u001b[38;5;124mSales\u001b[39m\u001b[38;5;124m'\u001b[39m, ascending\u001b[38;5;241m=\u001b[39m\u001b[38;5;28;01mFalse\u001b[39;00m)\u001b[38;5;241m.\u001b[39mhead(\u001b[38;5;241m20\u001b[39m)\u001b[38;5;241m.\u001b[39mdrop(\u001b[38;5;124m'\u001b[39m\u001b[38;5;124mPostal Code\u001b[39m\u001b[38;5;124m'\u001b[39m,axis\u001b[38;5;241m=\u001b[39m\u001b[38;5;241m1\u001b[39m)\u001b[38;5;241m.\u001b[39mround(\u001b[38;5;241m2\u001b[39m)\n\u001b[1;32m      3\u001b[0m \u001b[38;5;28mprint\u001b[39m(\u001b[38;5;124m'\u001b[39m\u001b[38;5;130;01m\\033\u001b[39;00m\u001b[38;5;124m[1mTop 20 Cities with Highest revenue :\u001b[39m\u001b[38;5;130;01m\\033\u001b[39;00m\u001b[38;5;124m[0m \u001b[39m\u001b[38;5;130;01m\\n\u001b[39;00m\u001b[38;5;124m'\u001b[39m)\n\u001b[1;32m      4\u001b[0m \u001b[38;5;28mprint\u001b[39m(\u001b[38;5;124mf\u001b[39m\u001b[38;5;124m'\u001b[39m\u001b[38;5;130;01m\\033\u001b[39;00m\u001b[38;5;124m[1m\u001b[39m\u001b[38;5;132;01m{\u001b[39;00mtop_cities\u001b[38;5;132;01m}\u001b[39;00m\u001b[38;5;130;01m\\033\u001b[39;00m\u001b[38;5;124m[0m \u001b[39m\u001b[38;5;130;01m\\n\u001b[39;00m\u001b[38;5;124m'\u001b[39m)\n",
            "\u001b[0;31mNameError\u001b[0m: name 'sales_data' is not defined"
          ],
          "output_type": "error"
        }
      ],
      "id": "06348f2d"
    },
    {
      "cell_type": "markdown",
      "source": "> **Revenue generated by Region**",
      "metadata": {
        "papermill": {
          "duration": 0.095328,
          "end_time": "2022-08-15T18:47:56.351614",
          "exception": false,
          "start_time": "2022-08-15T18:47:56.256286",
          "status": "completed"
        },
        "tags": []
      },
      "id": "36525c40"
    },
    {
      "cell_type": "code",
      "source": "region_sales = sales_data.groupby(['Region']).sum().sort_values(by='Sales', ascending=False).drop('Postal Code',axis=1).round(2)\n\nprint('\\033[1mRegion wise revenue :\\033[0m \\n')\nprint(f'\\033[1m{region_sales}\\033[0m \\n')\nregion_sales.reset_index(inplace=True)\n\ncolr=np.arange(0,region_sales.values.size)\nfig=go.Figure(data=[go.Pie(labels=region_sales['Region'],values=region_sales['Sales'])],layout=go.Layout(title='Revenue generated by Region'))\nfig.update_traces(hoverinfo='label+percent+value', textinfo='label+percent', textfont_size=10,marker=dict(colors=colr))\nfig.data[0].marker.line.width = 2\nfig.data[0].marker.line.color = \"black\"                \nfig.update_layout(height=600,autosize=True ,plot_bgcolor='rgb(205, 205, 275)')",
      "metadata": {
        "_kg_hide-input": true,
        "papermill": {
          "duration": 0.133502,
          "end_time": "2022-08-15T18:47:56.581527",
          "exception": false,
          "start_time": "2022-08-15T18:47:56.448025",
          "status": "completed"
        },
        "tags": [],
        "trusted": true
      },
      "execution_count": 33,
      "outputs": [
        {
          "ename": "<class 'NameError'>",
          "evalue": "name 'sales_data' is not defined",
          "traceback": [
            "\u001b[0;31m---------------------------------------------------------------------------\u001b[0m",
            "\u001b[0;31mNameError\u001b[0m                                 Traceback (most recent call last)",
            "Cell \u001b[0;32mIn[33], line 1\u001b[0m\n\u001b[0;32m----> 1\u001b[0m region_sales \u001b[38;5;241m=\u001b[39m \u001b[43msales_data\u001b[49m\u001b[38;5;241m.\u001b[39mgroupby([\u001b[38;5;124m'\u001b[39m\u001b[38;5;124mRegion\u001b[39m\u001b[38;5;124m'\u001b[39m])\u001b[38;5;241m.\u001b[39msum()\u001b[38;5;241m.\u001b[39msort_values(by\u001b[38;5;241m=\u001b[39m\u001b[38;5;124m'\u001b[39m\u001b[38;5;124mSales\u001b[39m\u001b[38;5;124m'\u001b[39m, ascending\u001b[38;5;241m=\u001b[39m\u001b[38;5;28;01mFalse\u001b[39;00m)\u001b[38;5;241m.\u001b[39mdrop(\u001b[38;5;124m'\u001b[39m\u001b[38;5;124mPostal Code\u001b[39m\u001b[38;5;124m'\u001b[39m,axis\u001b[38;5;241m=\u001b[39m\u001b[38;5;241m1\u001b[39m)\u001b[38;5;241m.\u001b[39mround(\u001b[38;5;241m2\u001b[39m)\n\u001b[1;32m      3\u001b[0m \u001b[38;5;28mprint\u001b[39m(\u001b[38;5;124m'\u001b[39m\u001b[38;5;130;01m\\033\u001b[39;00m\u001b[38;5;124m[1mRegion wise revenue :\u001b[39m\u001b[38;5;130;01m\\033\u001b[39;00m\u001b[38;5;124m[0m \u001b[39m\u001b[38;5;130;01m\\n\u001b[39;00m\u001b[38;5;124m'\u001b[39m)\n\u001b[1;32m      4\u001b[0m \u001b[38;5;28mprint\u001b[39m(\u001b[38;5;124mf\u001b[39m\u001b[38;5;124m'\u001b[39m\u001b[38;5;130;01m\\033\u001b[39;00m\u001b[38;5;124m[1m\u001b[39m\u001b[38;5;132;01m{\u001b[39;00mregion_sales\u001b[38;5;132;01m}\u001b[39;00m\u001b[38;5;130;01m\\033\u001b[39;00m\u001b[38;5;124m[0m \u001b[39m\u001b[38;5;130;01m\\n\u001b[39;00m\u001b[38;5;124m'\u001b[39m)\n",
            "\u001b[0;31mNameError\u001b[0m: name 'sales_data' is not defined"
          ],
          "output_type": "error"
        }
      ],
      "id": "eb4064d3"
    },
    {
      "cell_type": "code",
      "source": "least_states = sales_data.groupby(['State']).sum().sort_values(by='Sales', ascending=False).tail(20).drop('Postal Code',axis=1).round(2)\n\nprint('\\033[1m20 States with lowest revenue :\\033[0m \\n')\nprint(f'\\033[1m{least_states}\\033[0m \\n')\nleast_states.reset_index(inplace=True)\n\ncolr=np.arange(0,least_states.values.size)\nfig=go.Figure(data=[go.Bar(y=least_states['Sales'],x=least_states['State'], marker={'color':colr})], layout=go.Layout(title='States with lowest Revenue',\n          xaxis=dict(title='States'),\n          yaxis = dict(title='Revenue')))\nfig.data[0].marker.line.width = 2\nfig.data[0].marker.line.color = \"black\" \nfig.update_layout(height=600,autosize=True ,plot_bgcolor='rgb(205, 205, 275)')",
      "metadata": {
        "_kg_hide-input": true,
        "papermill": {
          "duration": 0.136978,
          "end_time": "2022-08-15T18:47:57.022821",
          "exception": false,
          "start_time": "2022-08-15T18:47:56.885843",
          "status": "completed"
        },
        "tags": [],
        "trusted": true
      },
      "execution_count": 34,
      "outputs": [
        {
          "ename": "<class 'NameError'>",
          "evalue": "name 'sales_data' is not defined",
          "traceback": [
            "\u001b[0;31m---------------------------------------------------------------------------\u001b[0m",
            "\u001b[0;31mNameError\u001b[0m                                 Traceback (most recent call last)",
            "Cell \u001b[0;32mIn[34], line 1\u001b[0m\n\u001b[0;32m----> 1\u001b[0m least_states \u001b[38;5;241m=\u001b[39m \u001b[43msales_data\u001b[49m\u001b[38;5;241m.\u001b[39mgroupby([\u001b[38;5;124m'\u001b[39m\u001b[38;5;124mState\u001b[39m\u001b[38;5;124m'\u001b[39m])\u001b[38;5;241m.\u001b[39msum()\u001b[38;5;241m.\u001b[39msort_values(by\u001b[38;5;241m=\u001b[39m\u001b[38;5;124m'\u001b[39m\u001b[38;5;124mSales\u001b[39m\u001b[38;5;124m'\u001b[39m, ascending\u001b[38;5;241m=\u001b[39m\u001b[38;5;28;01mFalse\u001b[39;00m)\u001b[38;5;241m.\u001b[39mtail(\u001b[38;5;241m20\u001b[39m)\u001b[38;5;241m.\u001b[39mdrop(\u001b[38;5;124m'\u001b[39m\u001b[38;5;124mPostal Code\u001b[39m\u001b[38;5;124m'\u001b[39m,axis\u001b[38;5;241m=\u001b[39m\u001b[38;5;241m1\u001b[39m)\u001b[38;5;241m.\u001b[39mround(\u001b[38;5;241m2\u001b[39m)\n\u001b[1;32m      3\u001b[0m \u001b[38;5;28mprint\u001b[39m(\u001b[38;5;124m'\u001b[39m\u001b[38;5;130;01m\\033\u001b[39;00m\u001b[38;5;124m[1m20 States with lowest revenue :\u001b[39m\u001b[38;5;130;01m\\033\u001b[39;00m\u001b[38;5;124m[0m \u001b[39m\u001b[38;5;130;01m\\n\u001b[39;00m\u001b[38;5;124m'\u001b[39m)\n\u001b[1;32m      4\u001b[0m \u001b[38;5;28mprint\u001b[39m(\u001b[38;5;124mf\u001b[39m\u001b[38;5;124m'\u001b[39m\u001b[38;5;130;01m\\033\u001b[39;00m\u001b[38;5;124m[1m\u001b[39m\u001b[38;5;132;01m{\u001b[39;00mleast_states\u001b[38;5;132;01m}\u001b[39;00m\u001b[38;5;130;01m\\033\u001b[39;00m\u001b[38;5;124m[0m \u001b[39m\u001b[38;5;130;01m\\n\u001b[39;00m\u001b[38;5;124m'\u001b[39m)\n",
            "\u001b[0;31mNameError\u001b[0m: name 'sales_data' is not defined"
          ],
          "output_type": "error"
        }
      ],
      "id": "b4f04a01"
    },
    {
      "cell_type": "markdown",
      "source": "> **Least Revenue generated by Cities**",
      "metadata": {
        "papermill": {
          "duration": 0.106558,
          "end_time": "2022-08-15T18:47:57.235660",
          "exception": false,
          "start_time": "2022-08-15T18:47:57.129102",
          "status": "completed"
        },
        "tags": []
      },
      "id": "f1fbe5f2"
    },
    {
      "cell_type": "code",
      "source": "least_cities = sales_data.groupby(['City']).sum().sort_values(by='Sales', ascending=False).tail(20).drop('Postal Code',axis=1).round(2)\n\nprint('\\033[1m20 Cities with lowest revenue :\\033[0m \\n')\nprint(f'\\033[1m{least_cities}\\033[0m \\n')\nleast_cities.reset_index(inplace=True)\n\ncolr=np.arange(0,least_cities.values.size)\nfig=go.Figure(data=[go.Bar(y=least_cities['Sales'],x=least_cities['City'], marker={'color':colr})], layout=go.Layout(title='Cities with lowest Revenue',\n          xaxis=dict(title='Cities'),\n          yaxis = dict(title='Revenue')))\nfig.data[0].marker.line.width = 2\nfig.data[0].marker.line.color = \"black\" \nfig.update_layout(height=600,autosize=True ,plot_bgcolor='rgb(205, 205, 275)')",
      "metadata": {
        "_kg_hide-input": true,
        "papermill": {
          "duration": 0.192563,
          "end_time": "2022-08-15T18:47:57.535273",
          "exception": false,
          "start_time": "2022-08-15T18:47:57.342710",
          "status": "completed"
        },
        "tags": [],
        "trusted": true
      },
      "execution_count": 35,
      "outputs": [
        {
          "ename": "<class 'NameError'>",
          "evalue": "name 'sales_data' is not defined",
          "traceback": [
            "\u001b[0;31m---------------------------------------------------------------------------\u001b[0m",
            "\u001b[0;31mNameError\u001b[0m                                 Traceback (most recent call last)",
            "Cell \u001b[0;32mIn[35], line 1\u001b[0m\n\u001b[0;32m----> 1\u001b[0m least_cities \u001b[38;5;241m=\u001b[39m \u001b[43msales_data\u001b[49m\u001b[38;5;241m.\u001b[39mgroupby([\u001b[38;5;124m'\u001b[39m\u001b[38;5;124mCity\u001b[39m\u001b[38;5;124m'\u001b[39m])\u001b[38;5;241m.\u001b[39msum()\u001b[38;5;241m.\u001b[39msort_values(by\u001b[38;5;241m=\u001b[39m\u001b[38;5;124m'\u001b[39m\u001b[38;5;124mSales\u001b[39m\u001b[38;5;124m'\u001b[39m, ascending\u001b[38;5;241m=\u001b[39m\u001b[38;5;28;01mFalse\u001b[39;00m)\u001b[38;5;241m.\u001b[39mtail(\u001b[38;5;241m20\u001b[39m)\u001b[38;5;241m.\u001b[39mdrop(\u001b[38;5;124m'\u001b[39m\u001b[38;5;124mPostal Code\u001b[39m\u001b[38;5;124m'\u001b[39m,axis\u001b[38;5;241m=\u001b[39m\u001b[38;5;241m1\u001b[39m)\u001b[38;5;241m.\u001b[39mround(\u001b[38;5;241m2\u001b[39m)\n\u001b[1;32m      3\u001b[0m \u001b[38;5;28mprint\u001b[39m(\u001b[38;5;124m'\u001b[39m\u001b[38;5;130;01m\\033\u001b[39;00m\u001b[38;5;124m[1m20 Cities with lowest revenue :\u001b[39m\u001b[38;5;130;01m\\033\u001b[39;00m\u001b[38;5;124m[0m \u001b[39m\u001b[38;5;130;01m\\n\u001b[39;00m\u001b[38;5;124m'\u001b[39m)\n\u001b[1;32m      4\u001b[0m \u001b[38;5;28mprint\u001b[39m(\u001b[38;5;124mf\u001b[39m\u001b[38;5;124m'\u001b[39m\u001b[38;5;130;01m\\033\u001b[39;00m\u001b[38;5;124m[1m\u001b[39m\u001b[38;5;132;01m{\u001b[39;00mleast_cities\u001b[38;5;132;01m}\u001b[39;00m\u001b[38;5;130;01m\\033\u001b[39;00m\u001b[38;5;124m[0m \u001b[39m\u001b[38;5;130;01m\\n\u001b[39;00m\u001b[38;5;124m'\u001b[39m)\n",
            "\u001b[0;31mNameError\u001b[0m: name 'sales_data' is not defined"
          ],
          "output_type": "error"
        }
      ],
      "id": "e9a1ef3c"
    },
    {
      "cell_type": "markdown",
      "source": "# **Sales Segment Analysis**",
      "metadata": {
        "papermill": {
          "duration": 0.111033,
          "end_time": "2022-08-15T18:47:57.757451",
          "exception": false,
          "start_time": "2022-08-15T18:47:57.646418",
          "status": "completed"
        },
        "tags": []
      },
      "id": "0de9da49"
    },
    {
      "cell_type": "code",
      "source": "segment_sales = sales_data.groupby(['Segment']).sum().sort_values(by='Sales', ascending=False).drop('Postal Code',axis=1).round(2)\n\nprint('\\033[1mSegment wise revenue :\\033[0m \\n')\nprint(f'\\033[1m{segment_sales}\\033[0m \\n')\nsegment_sales.reset_index(inplace=True)\n\ncolr=np.arange(0,segment_sales.values.size)\nfig=go.Figure(data=[go.Pie(labels=segment_sales['Segment'],values=segment_sales['Sales'])],layout=go.Layout(title='Revenue generated by each Segment'))\nfig.update_traces(hoverinfo='label+percent+value', textinfo='label+percent', textfont_size=10,marker=dict(colors=colr))\nfig.data[0].marker.line.width = 2\nfig.data[0].marker.line.color = \"black\"                \nfig.update_layout(height=600,autosize=True ,plot_bgcolor='rgb(205, 205, 275)')",
      "metadata": {
        "_kg_hide-input": true,
        "papermill": {
          "duration": 0.148968,
          "end_time": "2022-08-15T18:47:58.020158",
          "exception": false,
          "start_time": "2022-08-15T18:47:57.871190",
          "status": "completed"
        },
        "tags": [],
        "trusted": true
      },
      "execution_count": 36,
      "outputs": [
        {
          "ename": "<class 'NameError'>",
          "evalue": "name 'sales_data' is not defined",
          "traceback": [
            "\u001b[0;31m---------------------------------------------------------------------------\u001b[0m",
            "\u001b[0;31mNameError\u001b[0m                                 Traceback (most recent call last)",
            "Cell \u001b[0;32mIn[36], line 1\u001b[0m\n\u001b[0;32m----> 1\u001b[0m segment_sales \u001b[38;5;241m=\u001b[39m \u001b[43msales_data\u001b[49m\u001b[38;5;241m.\u001b[39mgroupby([\u001b[38;5;124m'\u001b[39m\u001b[38;5;124mSegment\u001b[39m\u001b[38;5;124m'\u001b[39m])\u001b[38;5;241m.\u001b[39msum()\u001b[38;5;241m.\u001b[39msort_values(by\u001b[38;5;241m=\u001b[39m\u001b[38;5;124m'\u001b[39m\u001b[38;5;124mSales\u001b[39m\u001b[38;5;124m'\u001b[39m, ascending\u001b[38;5;241m=\u001b[39m\u001b[38;5;28;01mFalse\u001b[39;00m)\u001b[38;5;241m.\u001b[39mdrop(\u001b[38;5;124m'\u001b[39m\u001b[38;5;124mPostal Code\u001b[39m\u001b[38;5;124m'\u001b[39m,axis\u001b[38;5;241m=\u001b[39m\u001b[38;5;241m1\u001b[39m)\u001b[38;5;241m.\u001b[39mround(\u001b[38;5;241m2\u001b[39m)\n\u001b[1;32m      3\u001b[0m \u001b[38;5;28mprint\u001b[39m(\u001b[38;5;124m'\u001b[39m\u001b[38;5;130;01m\\033\u001b[39;00m\u001b[38;5;124m[1mSegment wise revenue :\u001b[39m\u001b[38;5;130;01m\\033\u001b[39;00m\u001b[38;5;124m[0m \u001b[39m\u001b[38;5;130;01m\\n\u001b[39;00m\u001b[38;5;124m'\u001b[39m)\n\u001b[1;32m      4\u001b[0m \u001b[38;5;28mprint\u001b[39m(\u001b[38;5;124mf\u001b[39m\u001b[38;5;124m'\u001b[39m\u001b[38;5;130;01m\\033\u001b[39;00m\u001b[38;5;124m[1m\u001b[39m\u001b[38;5;132;01m{\u001b[39;00msegment_sales\u001b[38;5;132;01m}\u001b[39;00m\u001b[38;5;130;01m\\033\u001b[39;00m\u001b[38;5;124m[0m \u001b[39m\u001b[38;5;130;01m\\n\u001b[39;00m\u001b[38;5;124m'\u001b[39m)\n",
            "\u001b[0;31mNameError\u001b[0m: name 'sales_data' is not defined"
          ],
          "output_type": "error"
        }
      ],
      "id": "25562e62"
    },
    {
      "cell_type": "code",
      "source": "",
      "metadata": {},
      "execution_count": null,
      "outputs": [],
      "id": "e7fa0eb4"
    }
  ]
}